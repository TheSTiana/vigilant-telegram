{
 "cells": [
  {
   "cell_type": "markdown",
   "id": "given-bermuda",
   "metadata": {},
   "source": [
    "# ULMFit with FastAI\n",
    "\n",
    "Large part of FastAis NLP course is dedicated to the Universal Language Model Fine-tuning (ULMFit) approach. Which summarized is a three step process:\n",
    "- Decide on a pretrained language model, in this case an RNN pretrained on Wikipedia.\n",
    "- Fine-tune that language model on a more specific corpus, corpus being dataset of airline tweets.\n",
    "- Use that language model as prerequisite for fine-tuning a classification model with the same specific corpus. \n",
    "\n",
    "This should result in a better end result that skipping any of the steps. "
   ]
  },
  {
   "cell_type": "code",
   "execution_count": 1,
   "id": "dying-nightmare",
   "metadata": {
    "ExecuteTime": {
     "end_time": "2022-04-27T17:20:43.283602Z",
     "start_time": "2022-04-27T17:20:41.068605Z"
    }
   },
   "outputs": [],
   "source": [
    "#collapse\n",
    "from fastai.text.all import *\n",
    "from fastai.text import *\n",
    "import pandas as pd\n",
    "import numpy as np\n",
    "from pathlib import Path"
   ]
  },
  {
   "cell_type": "markdown",
   "id": "induced-affair",
   "metadata": {},
   "source": [
    "# Data exploration\n",
    "\n",
    "Stared with downloading and familiarizing my self with the dataset. "
   ]
  },
  {
   "cell_type": "code",
   "execution_count": 2,
   "id": "frequent-coordination",
   "metadata": {
    "ExecuteTime": {
     "end_time": "2022-04-27T17:20:43.315610Z",
     "start_time": "2022-04-27T17:20:43.284603Z"
    }
   },
   "outputs": [
    {
     "data": {
      "text/html": [
       "<div>\n",
       "<style scoped>\n",
       "    .dataframe tbody tr th:only-of-type {\n",
       "        vertical-align: middle;\n",
       "    }\n",
       "\n",
       "    .dataframe tbody tr th {\n",
       "        vertical-align: top;\n",
       "    }\n",
       "\n",
       "    .dataframe thead th {\n",
       "        text-align: right;\n",
       "    }\n",
       "</style>\n",
       "<table border=\"1\" class=\"dataframe\">\n",
       "  <thead>\n",
       "    <tr style=\"text-align: right;\">\n",
       "      <th></th>\n",
       "      <th>tweet_id</th>\n",
       "      <th>airline_sentiment</th>\n",
       "      <th>airline_sentiment_confidence</th>\n",
       "      <th>negativereason</th>\n",
       "      <th>negativereason_confidence</th>\n",
       "      <th>airline</th>\n",
       "      <th>airline_sentiment_gold</th>\n",
       "      <th>name</th>\n",
       "      <th>negativereason_gold</th>\n",
       "      <th>retweet_count</th>\n",
       "      <th>text</th>\n",
       "      <th>tweet_coord</th>\n",
       "      <th>tweet_created</th>\n",
       "      <th>tweet_location</th>\n",
       "      <th>user_timezone</th>\n",
       "    </tr>\n",
       "  </thead>\n",
       "  <tbody>\n",
       "    <tr>\n",
       "      <th>0</th>\n",
       "      <td>570306133677760513</td>\n",
       "      <td>neutral</td>\n",
       "      <td>1.0000</td>\n",
       "      <td>NaN</td>\n",
       "      <td>NaN</td>\n",
       "      <td>Virgin America</td>\n",
       "      <td>NaN</td>\n",
       "      <td>cairdin</td>\n",
       "      <td>NaN</td>\n",
       "      <td>0</td>\n",
       "      <td>@VirginAmerica What @dhepburn said.</td>\n",
       "      <td>NaN</td>\n",
       "      <td>2015-02-24 11:35:52 -0800</td>\n",
       "      <td>NaN</td>\n",
       "      <td>Eastern Time (US &amp; Canada)</td>\n",
       "    </tr>\n",
       "    <tr>\n",
       "      <th>1</th>\n",
       "      <td>570301130888122368</td>\n",
       "      <td>positive</td>\n",
       "      <td>0.3486</td>\n",
       "      <td>NaN</td>\n",
       "      <td>0.0000</td>\n",
       "      <td>Virgin America</td>\n",
       "      <td>NaN</td>\n",
       "      <td>jnardino</td>\n",
       "      <td>NaN</td>\n",
       "      <td>0</td>\n",
       "      <td>@VirginAmerica plus you've added commercials to the experience... tacky.</td>\n",
       "      <td>NaN</td>\n",
       "      <td>2015-02-24 11:15:59 -0800</td>\n",
       "      <td>NaN</td>\n",
       "      <td>Pacific Time (US &amp; Canada)</td>\n",
       "    </tr>\n",
       "    <tr>\n",
       "      <th>2</th>\n",
       "      <td>570301083672813571</td>\n",
       "      <td>neutral</td>\n",
       "      <td>0.6837</td>\n",
       "      <td>NaN</td>\n",
       "      <td>NaN</td>\n",
       "      <td>Virgin America</td>\n",
       "      <td>NaN</td>\n",
       "      <td>yvonnalynn</td>\n",
       "      <td>NaN</td>\n",
       "      <td>0</td>\n",
       "      <td>@VirginAmerica I didn't today... Must mean I need to take another trip!</td>\n",
       "      <td>NaN</td>\n",
       "      <td>2015-02-24 11:15:48 -0800</td>\n",
       "      <td>Lets Play</td>\n",
       "      <td>Central Time (US &amp; Canada)</td>\n",
       "    </tr>\n",
       "    <tr>\n",
       "      <th>3</th>\n",
       "      <td>570301031407624196</td>\n",
       "      <td>negative</td>\n",
       "      <td>1.0000</td>\n",
       "      <td>Bad Flight</td>\n",
       "      <td>0.7033</td>\n",
       "      <td>Virgin America</td>\n",
       "      <td>NaN</td>\n",
       "      <td>jnardino</td>\n",
       "      <td>NaN</td>\n",
       "      <td>0</td>\n",
       "      <td>@VirginAmerica it's really aggressive to blast obnoxious \"entertainment\" in your guests' faces &amp;amp; they have little recourse</td>\n",
       "      <td>NaN</td>\n",
       "      <td>2015-02-24 11:15:36 -0800</td>\n",
       "      <td>NaN</td>\n",
       "      <td>Pacific Time (US &amp; Canada)</td>\n",
       "    </tr>\n",
       "    <tr>\n",
       "      <th>4</th>\n",
       "      <td>570300817074462722</td>\n",
       "      <td>negative</td>\n",
       "      <td>1.0000</td>\n",
       "      <td>Can't Tell</td>\n",
       "      <td>1.0000</td>\n",
       "      <td>Virgin America</td>\n",
       "      <td>NaN</td>\n",
       "      <td>jnardino</td>\n",
       "      <td>NaN</td>\n",
       "      <td>0</td>\n",
       "      <td>@VirginAmerica and it's a really big bad thing about it</td>\n",
       "      <td>NaN</td>\n",
       "      <td>2015-02-24 11:14:45 -0800</td>\n",
       "      <td>NaN</td>\n",
       "      <td>Pacific Time (US &amp; Canada)</td>\n",
       "    </tr>\n",
       "  </tbody>\n",
       "</table>\n",
       "</div>"
      ],
      "text/plain": [
       "             tweet_id airline_sentiment  airline_sentiment_confidence  \\\n",
       "0  570306133677760513           neutral                        1.0000   \n",
       "1  570301130888122368          positive                        0.3486   \n",
       "2  570301083672813571           neutral                        0.6837   \n",
       "3  570301031407624196          negative                        1.0000   \n",
       "4  570300817074462722          negative                        1.0000   \n",
       "\n",
       "  negativereason  negativereason_confidence         airline  \\\n",
       "0            NaN                        NaN  Virgin America   \n",
       "1            NaN                     0.0000  Virgin America   \n",
       "2            NaN                        NaN  Virgin America   \n",
       "3     Bad Flight                     0.7033  Virgin America   \n",
       "4     Can't Tell                     1.0000  Virgin America   \n",
       "\n",
       "   airline_sentiment_gold        name  negativereason_gold  retweet_count  \\\n",
       "0                     NaN     cairdin                  NaN              0   \n",
       "1                     NaN    jnardino                  NaN              0   \n",
       "2                     NaN  yvonnalynn                  NaN              0   \n",
       "3                     NaN    jnardino                  NaN              0   \n",
       "4                     NaN    jnardino                  NaN              0   \n",
       "\n",
       "                                                                                                                             text  \\\n",
       "0                                                                                             @VirginAmerica What @dhepburn said.   \n",
       "1                                                        @VirginAmerica plus you've added commercials to the experience... tacky.   \n",
       "2                                                         @VirginAmerica I didn't today... Must mean I need to take another trip!   \n",
       "3  @VirginAmerica it's really aggressive to blast obnoxious \"entertainment\" in your guests' faces &amp; they have little recourse   \n",
       "4                                                                         @VirginAmerica and it's a really big bad thing about it   \n",
       "\n",
       "   tweet_coord              tweet_created tweet_location  \\\n",
       "0          NaN  2015-02-24 11:35:52 -0800            NaN   \n",
       "1          NaN  2015-02-24 11:15:59 -0800            NaN   \n",
       "2          NaN  2015-02-24 11:15:48 -0800      Lets Play   \n",
       "3          NaN  2015-02-24 11:15:36 -0800            NaN   \n",
       "4          NaN  2015-02-24 11:14:45 -0800            NaN   \n",
       "\n",
       "                user_timezone  \n",
       "0  Eastern Time (US & Canada)  \n",
       "1  Pacific Time (US & Canada)  \n",
       "2  Central Time (US & Canada)  \n",
       "3  Pacific Time (US & Canada)  \n",
       "4  Pacific Time (US & Canada)  "
      ]
     },
     "execution_count": 2,
     "metadata": {},
     "output_type": "execute_result"
    }
   ],
   "source": [
    "df_check = pd.read_csv(r\"../datasets/Tweets.csv.zip\", nrows=10)\n",
    "df_check.head()"
   ]
  },
  {
   "cell_type": "markdown",
   "id": "correct-aviation",
   "metadata": {},
   "source": [
    "Started with looking at a few data points to get a little overview, and can from this see that the class label is airline_sentiment which is expressed as a string (or object), the airline review is contained under the header text. "
   ]
  },
  {
   "cell_type": "code",
   "execution_count": 3,
   "id": "approximate-sucking",
   "metadata": {
    "ExecuteTime": {
     "end_time": "2022-04-27T17:20:43.426635Z",
     "start_time": "2022-04-27T17:20:43.316611Z"
    }
   },
   "outputs": [
    {
     "name": "stdout",
     "output_type": "stream",
     "text": [
      "<class 'pandas.core.frame.DataFrame'>\n",
      "RangeIndex: 14640 entries, 0 to 14639\n",
      "Data columns (total 15 columns):\n",
      " #   Column                        Non-Null Count  Dtype  \n",
      "---  ------                        --------------  -----  \n",
      " 0   tweet_id                      14640 non-null  int64  \n",
      " 1   airline_sentiment             14640 non-null  object \n",
      " 2   airline_sentiment_confidence  14640 non-null  float64\n",
      " 3   negativereason                9178 non-null   object \n",
      " 4   negativereason_confidence     10522 non-null  float64\n",
      " 5   airline                       14640 non-null  object \n",
      " 6   airline_sentiment_gold        40 non-null     object \n",
      " 7   name                          14640 non-null  object \n",
      " 8   negativereason_gold           32 non-null     object \n",
      " 9   retweet_count                 14640 non-null  int64  \n",
      " 10  text                          14640 non-null  object \n",
      " 11  tweet_coord                   1019 non-null   object \n",
      " 12  tweet_created                 14640 non-null  object \n",
      " 13  tweet_location                9907 non-null   object \n",
      " 14  user_timezone                 9820 non-null   object \n",
      "dtypes: float64(2), int64(2), object(11)\n",
      "memory usage: 1.7+ MB\n"
     ]
    }
   ],
   "source": [
    "df_all = pd.read_csv(\"../datasets/Tweets.csv.zip\")\n",
    "df_all.info()"
   ]
  },
  {
   "cell_type": "code",
   "execution_count": 4,
   "id": "silver-worker",
   "metadata": {
    "ExecuteTime": {
     "end_time": "2022-04-27T17:20:43.442638Z",
     "start_time": "2022-04-27T17:20:43.428636Z"
    }
   },
   "outputs": [
    {
     "data": {
      "text/plain": [
       "0"
      ]
     },
     "execution_count": 4,
     "metadata": {},
     "output_type": "execute_result"
    }
   ],
   "source": [
    "#collapse\n",
    "# Wanted to make sure that none of the sentiments were nan.\n",
    "df_all[\"airline_sentiment\"].isna().sum()"
   ]
  },
  {
   "cell_type": "code",
   "execution_count": 5,
   "id": "serial-electric",
   "metadata": {
    "ExecuteTime": {
     "end_time": "2022-04-27T17:20:43.458642Z",
     "start_time": "2022-04-27T17:20:43.443639Z"
    }
   },
   "outputs": [
    {
     "data": {
      "text/plain": [
       "negative    9178\n",
       "neutral     3099\n",
       "positive    2363\n",
       "Name: airline_sentiment, dtype: int64"
      ]
     },
     "execution_count": 5,
     "metadata": {},
     "output_type": "execute_result"
    }
   ],
   "source": [
    "df_all[\"airline_sentiment\"].value_counts()"
   ]
  },
  {
   "cell_type": "markdown",
   "id": "explicit-kruger",
   "metadata": {},
   "source": [
    "The dataset has 14640 entries, and neither airline_sentiment nor text seems to lack any. However, it is splint into three different classes negative, neutral and positive. Something noteworthy is that the dataset contains lots more negative reviews. As such, it could be interesting to see if the dataset has other skewed distributions and try to see how represented the different airlines are."
   ]
  },
  {
   "cell_type": "code",
   "execution_count": 6,
   "id": "catholic-enclosure",
   "metadata": {
    "ExecuteTime": {
     "end_time": "2022-04-27T17:20:43.474645Z",
     "start_time": "2022-04-27T17:20:43.460642Z"
    }
   },
   "outputs": [
    {
     "data": {
      "text/plain": [
       "United            3822\n",
       "US Airways        2913\n",
       "American          2759\n",
       "Southwest         2420\n",
       "Delta             2222\n",
       "Virgin America     504\n",
       "Name: airline, dtype: int64"
      ]
     },
     "execution_count": 6,
     "metadata": {},
     "output_type": "execute_result"
    }
   ],
   "source": [
    "df_all[\"airline\"].value_counts()"
   ]
  },
  {
   "cell_type": "markdown",
   "id": "american-daisy",
   "metadata": {},
   "source": [
    "Only kept the text and sentiment column, and also renamed it to label."
   ]
  },
  {
   "cell_type": "code",
   "execution_count": 7,
   "id": "underlying-pound",
   "metadata": {
    "ExecuteTime": {
     "end_time": "2022-04-27T17:20:43.490650Z",
     "start_time": "2022-04-27T17:20:43.476646Z"
    }
   },
   "outputs": [],
   "source": [
    "df = df_all[[\"airline_sentiment\",\"text\"]].copy()\n",
    "df.rename(columns={\"airline_sentiment\":\"label\"}, inplace=True)               "
   ]
  },
  {
   "cell_type": "markdown",
   "id": "hollywood-debate",
   "metadata": {},
   "source": [
    "An is_valid column signals to the DataBlock which parts of the dataset is validation and which is training. So created 20% validation data. "
   ]
  },
  {
   "cell_type": "code",
   "execution_count": 8,
   "id": "atmospheric-worse",
   "metadata": {
    "ExecuteTime": {
     "end_time": "2022-04-27T17:20:43.506653Z",
     "start_time": "2022-04-27T17:20:43.492650Z"
    }
   },
   "outputs": [],
   "source": [
    "np.random.seed(2020)\n",
    "df[\"is_valid\"]=np.random.choice([True, False], len(df), p=[0.8,0.2 ])"
   ]
  },
  {
   "cell_type": "markdown",
   "id": "better-michigan",
   "metadata": {},
   "source": [
    "# Language Model\n",
    "\n",
    "Tokenization and numericalization of the dataset is something which must be considered. Tokenization being the part where the corpus is broken down to tokens, which are used to represent the text. Furthermore, since models rely on numerical data, the tokens has to be given an number. Passing a TextBlock to a Datablock in FastAi handels both the tokenization and numericalization of the data. DataBlock is then used to create the DataLoader. Then fastai's pretrained language model is fine-tuned on the Twitter dataset. "
   ]
  },
  {
   "cell_type": "code",
   "execution_count": 9,
   "id": "structured-occupation",
   "metadata": {
    "ExecuteTime": {
     "end_time": "2022-04-27T17:20:43.825724Z",
     "start_time": "2022-04-27T17:20:43.507653Z"
    }
   },
   "outputs": [],
   "source": [
    "tweet_lm = DataBlock(blocks=TextBlock.from_df(\"text\", is_lm=True),\n",
    "                    get_x=ColReader(\"text\"),\n",
    "                    splitter=ColSplitter())"
   ]
  },
  {
   "cell_type": "code",
   "execution_count": 10,
   "id": "judicial-development",
   "metadata": {
    "ExecuteTime": {
     "end_time": "2022-04-27T17:20:50.262829Z",
     "start_time": "2022-04-27T17:20:43.827725Z"
    }
   },
   "outputs": [
    {
     "name": "stdout",
     "output_type": "stream",
     "text": [
      "Due to IPython and Windows limitation, python multiprocessing isn't available now.\n",
      "So `n_workers` has to be changed to 0 to avoid getting stuck\n"
     ]
    }
   ],
   "source": [
    "tweet_lm = tweet_lm.dataloaders(df, bs=16, seq_len=72)"
   ]
  },
  {
   "cell_type": "code",
   "execution_count": 11,
   "id": "surrounded-briefs",
   "metadata": {
    "ExecuteTime": {
     "end_time": "2022-04-27T17:20:50.325843Z",
     "start_time": "2022-04-27T17:20:50.263829Z"
    }
   },
   "outputs": [
    {
     "data": {
      "text/html": [
       "<table border=\"1\" class=\"dataframe\">\n",
       "  <thead>\n",
       "    <tr style=\"text-align: right;\">\n",
       "      <th></th>\n",
       "      <th>text</th>\n",
       "      <th>text_</th>\n",
       "    </tr>\n",
       "  </thead>\n",
       "  <tbody>\n",
       "    <tr>\n",
       "      <th>0</th>\n",
       "      <td>xxbos @jetblue xxmaj spent most of the winter in xxup xxunk with xxmaj mom , jetblue will take me home to xxup fl via xxup bos on xxmaj mon . xxmaj miss hubby , xxunk , warm # xxunk xxbos @southwestair want to explain why i was on hold for 2 + hrs tonight trying to reach customer service only to learn they 're only there mon - fr ? xxbos @united</td>\n",
       "      <td>@jetblue xxmaj spent most of the winter in xxup xxunk with xxmaj mom , jetblue will take me home to xxup fl via xxup bos on xxmaj mon . xxmaj miss hubby , xxunk , warm # xxunk xxbos @southwestair want to explain why i was on hold for 2 + hrs tonight trying to reach customer service only to learn they 're only there mon - fr ? xxbos @united xxup</td>\n",
       "    </tr>\n",
       "    <tr>\n",
       "      <th>1</th>\n",
       "      <td>when i made a xxmaj united weather change , free / 5 min . xxmaj you guys 2 hrs on hold &amp; &amp; $ 25 . xxbos @americanair ; @usairways xxup us 728 / xxmaj feb 21 . xxmaj unprofessional , xxunk , xxunk , xxunk communication , and xxunk solutions . xxbos @jetblue i would drive 2 1 / 2 hours to jfk to board jetblue to xxmaj vegas instead of</td>\n",
       "      <td>i made a xxmaj united weather change , free / 5 min . xxmaj you guys 2 hrs on hold &amp; &amp; $ 25 . xxbos @americanair ; @usairways xxup us 728 / xxmaj feb 21 . xxmaj unprofessional , xxunk , xxunk , xxunk communication , and xxunk solutions . xxbos @jetblue i would drive 2 1 / 2 hours to jfk to board jetblue to xxmaj vegas instead of closer</td>\n",
       "    </tr>\n",
       "    <tr>\n",
       "      <th>2</th>\n",
       "      <td>xxbos @southwestair are xxunk that the xxunk \" , xxunk xxunk free or xxunk are automatically $ 75 / each way ? xxmaj the xxup xxunk page is n't very clear to me . xxbos @united it was delivered ! xxmaj thank you for making sure it arrived at my xxunk ! xxbos @americanair xxunk on the terminal , what ' the best option ? xxmaj arrive xxup c , depart xxup</td>\n",
       "      <td>@southwestair are xxunk that the xxunk \" , xxunk xxunk free or xxunk are automatically $ 75 / each way ? xxmaj the xxup xxunk page is n't very clear to me . xxbos @united it was delivered ! xxmaj thank you for making sure it arrived at my xxunk ! xxbos @americanair xxunk on the terminal , what ' the best option ? xxmaj arrive xxup c , depart xxup xxunk</td>\n",
       "    </tr>\n",
       "    <tr>\n",
       "      <th>3</th>\n",
       "      <td>tv 's xxunk xxmaj xxunk xxmaj xxunk . xxmaj tough to xxunk that quickly . xxmaj not a complaint , just an xxunk . xxbos @jetblue loved the service from the staff at xxmaj newark today . \\n\\n xxmaj good service goes along way . \\n\\n i appreciate your xxunk \\n\\n xxmaj nj ✈ xxunk \\n\\n▁ xxrep 3 xxunk xxbos @virginamerica xxmaj well , i xxunk … but xxup now i xxup</td>\n",
       "      <td>'s xxunk xxmaj xxunk xxmaj xxunk . xxmaj tough to xxunk that quickly . xxmaj not a complaint , just an xxunk . xxbos @jetblue loved the service from the staff at xxmaj newark today . \\n\\n xxmaj good service goes along way . \\n\\n i appreciate your xxunk \\n\\n xxmaj nj ✈ xxunk \\n\\n▁ xxrep 3 xxunk xxbos @virginamerica xxmaj well , i xxunk … but xxup now i xxup do</td>\n",
       "    </tr>\n",
       "    <tr>\n",
       "      <th>4</th>\n",
       "      <td>a call back feature ! xxbos “ @jetblue : xxmaj our fleet 's on fleek . http : / / t.co / xxunk ” + lol wow xxbos @united xxmaj i 'm not know if the seats are actually xxunk than other seats but they feel like it . xxmaj or maybe xxmaj i 'm extra xxunk . xxbos @united you 'd learn if you listen to your customers … you do</td>\n",
       "      <td>call back feature ! xxbos “ @jetblue : xxmaj our fleet 's on fleek . http : / / t.co / xxunk ” + lol wow xxbos @united xxmaj i 'm not know if the seats are actually xxunk than other seats but they feel like it . xxmaj or maybe xxmaj i 'm extra xxunk . xxbos @united you 'd learn if you listen to your customers … you do want</td>\n",
       "    </tr>\n",
       "  </tbody>\n",
       "</table>"
      ],
      "text/plain": [
       "<IPython.core.display.HTML object>"
      ]
     },
     "metadata": {},
     "output_type": "display_data"
    }
   ],
   "source": [
    "tweet_lm.show_batch(max_n=5)"
   ]
  },
  {
   "cell_type": "code",
   "execution_count": 12,
   "id": "wicked-plumbing",
   "metadata": {
    "ExecuteTime": {
     "end_time": "2022-04-27T17:20:50.723932Z",
     "start_time": "2022-04-27T17:20:50.326843Z"
    }
   },
   "outputs": [],
   "source": [
    "learn_lm = language_model_learner(tweet_lm, AWD_LSTM, drop_mult=0.3, metrics=[accuracy, Perplexity()]).to_fp16()"
   ]
  },
  {
   "cell_type": "code",
   "execution_count": 13,
   "id": "powered-scratch",
   "metadata": {
    "ExecuteTime": {
     "end_time": "2022-04-27T17:22:55.285131Z",
     "start_time": "2022-04-27T17:20:50.724932Z"
    }
   },
   "outputs": [
    {
     "data": {
      "text/html": [
       "<table border=\"1\" class=\"dataframe\">\n",
       "  <thead>\n",
       "    <tr style=\"text-align: left;\">\n",
       "      <th>epoch</th>\n",
       "      <th>train_loss</th>\n",
       "      <th>valid_loss</th>\n",
       "      <th>accuracy</th>\n",
       "      <th>perplexity</th>\n",
       "      <th>time</th>\n",
       "    </tr>\n",
       "  </thead>\n",
       "  <tbody>\n",
       "    <tr>\n",
       "      <td>0</td>\n",
       "      <td>6.161669</td>\n",
       "      <td>5.874311</td>\n",
       "      <td>0.159417</td>\n",
       "      <td>355.779419</td>\n",
       "      <td>00:15</td>\n",
       "    </tr>\n",
       "    <tr>\n",
       "      <td>1</td>\n",
       "      <td>5.595076</td>\n",
       "      <td>5.006215</td>\n",
       "      <td>0.192024</td>\n",
       "      <td>149.338440</td>\n",
       "      <td>00:11</td>\n",
       "    </tr>\n",
       "    <tr>\n",
       "      <td>2</td>\n",
       "      <td>4.914672</td>\n",
       "      <td>4.457724</td>\n",
       "      <td>0.215060</td>\n",
       "      <td>86.290855</td>\n",
       "      <td>00:11</td>\n",
       "    </tr>\n",
       "    <tr>\n",
       "      <td>3</td>\n",
       "      <td>4.390341</td>\n",
       "      <td>4.201617</td>\n",
       "      <td>0.240306</td>\n",
       "      <td>66.794266</td>\n",
       "      <td>00:11</td>\n",
       "    </tr>\n",
       "    <tr>\n",
       "      <td>4</td>\n",
       "      <td>4.096628</td>\n",
       "      <td>4.130862</td>\n",
       "      <td>0.247976</td>\n",
       "      <td>62.231560</td>\n",
       "      <td>00:12</td>\n",
       "    </tr>\n",
       "    <tr>\n",
       "      <td>5</td>\n",
       "      <td>3.926286</td>\n",
       "      <td>4.094766</td>\n",
       "      <td>0.251335</td>\n",
       "      <td>60.025272</td>\n",
       "      <td>00:11</td>\n",
       "    </tr>\n",
       "    <tr>\n",
       "      <td>6</td>\n",
       "      <td>3.816551</td>\n",
       "      <td>4.074054</td>\n",
       "      <td>0.253584</td>\n",
       "      <td>58.794819</td>\n",
       "      <td>00:12</td>\n",
       "    </tr>\n",
       "    <tr>\n",
       "      <td>7</td>\n",
       "      <td>3.750387</td>\n",
       "      <td>4.064131</td>\n",
       "      <td>0.254351</td>\n",
       "      <td>58.214314</td>\n",
       "      <td>00:11</td>\n",
       "    </tr>\n",
       "    <tr>\n",
       "      <td>8</td>\n",
       "      <td>3.703751</td>\n",
       "      <td>4.060599</td>\n",
       "      <td>0.254894</td>\n",
       "      <td>58.009068</td>\n",
       "      <td>00:11</td>\n",
       "    </tr>\n",
       "    <tr>\n",
       "      <td>9</td>\n",
       "      <td>3.677141</td>\n",
       "      <td>4.060071</td>\n",
       "      <td>0.254925</td>\n",
       "      <td>57.978401</td>\n",
       "      <td>00:11</td>\n",
       "    </tr>\n",
       "  </tbody>\n",
       "</table>"
      ],
      "text/plain": [
       "<IPython.core.display.HTML object>"
      ]
     },
     "metadata": {},
     "output_type": "display_data"
    }
   ],
   "source": [
    "learn_lm.fit_one_cycle(10, 2e-3)"
   ]
  },
  {
   "cell_type": "code",
   "execution_count": 14,
   "id": "executed-convertible",
   "metadata": {
    "ExecuteTime": {
     "end_time": "2022-04-27T17:22:55.429166Z",
     "start_time": "2022-04-27T17:22:55.286132Z"
    }
   },
   "outputs": [],
   "source": [
    "#collapse\n",
    "learn_lm.save_encoder(\"finetuned\")"
   ]
  },
  {
   "cell_type": "code",
   "execution_count": 15,
   "id": "particular-factor",
   "metadata": {
    "ExecuteTime": {
     "end_time": "2022-04-27T17:22:55.445151Z",
     "start_time": "2022-04-27T17:22:55.430167Z"
    }
   },
   "outputs": [],
   "source": [
    "#collapse\n",
    "#learn_lm.save('10epoch_lm')"
   ]
  },
  {
   "cell_type": "markdown",
   "id": "elder-supplement",
   "metadata": {},
   "source": [
    "# Classification\n",
    "A DataBlock is created for the classification fine-turning. Here the vocab created for the language model is passed along, which makes the token match the index, and lets the models work together. Then a DataLoader is created. As with above, the batch shows that the text is tokenized. An text_classifier_learner crated and the previously saved encoder is loaded in. When training the classification model FastAi suggests gradual unfreezing the model and discriminative learning rates. I first tried without that approach and got an accuracy of 76.98% accuracy, which was worse than the results shown bellow of an accuracy of 78.97% accuracy. The confusion matrix shows that the model is really good at predicting negative tweets, but lack the same understanding of neutral and positive. As such, 829 of the tweets label neutral was labeled negative. The relative small dataset, and the skewed distribution of labels might be some reasons."
   ]
  },
  {
   "cell_type": "code",
   "execution_count": 16,
   "id": "celtic-marble",
   "metadata": {
    "ExecuteTime": {
     "end_time": "2022-04-27T17:22:55.652183Z",
     "start_time": "2022-04-27T17:22:55.446152Z"
    }
   },
   "outputs": [],
   "source": [
    "tweet_clas = DataBlock(blocks=(TextBlock.from_df(\"text\", seq_len=72, vocab=tweet_lm.vocab), CategoryBlock), \n",
    "                       get_x=ColReader(\"text\"), \n",
    "                       get_y=ColReader(\"label\"),\n",
    "                       splitter=ColSplitter())"
   ]
  },
  {
   "cell_type": "code",
   "execution_count": 17,
   "id": "uniform-district",
   "metadata": {
    "ExecuteTime": {
     "end_time": "2022-04-27T17:23:05.830466Z",
     "start_time": "2022-04-27T17:22:55.653184Z"
    }
   },
   "outputs": [
    {
     "name": "stdout",
     "output_type": "stream",
     "text": [
      "Due to IPython and Windows limitation, python multiprocessing isn't available now.\n",
      "So `n_workers` has to be changed to 0 to avoid getting stuck\n",
      "Due to IPython and Windows limitation, python multiprocessing isn't available now.\n",
      "So `number_workers` is changed to 0 to avoid getting stuck\n"
     ]
    }
   ],
   "source": [
    "tweet_clas = tweet_clas.dataloaders(df, bs=16)"
   ]
  },
  {
   "cell_type": "code",
   "execution_count": 18,
   "id": "worldwide-portland",
   "metadata": {
    "ExecuteTime": {
     "end_time": "2022-04-27T17:23:05.862473Z",
     "start_time": "2022-04-27T17:23:05.831467Z"
    }
   },
   "outputs": [
    {
     "data": {
      "text/html": [
       "<table border=\"1\" class=\"dataframe\">\n",
       "  <thead>\n",
       "    <tr style=\"text-align: right;\">\n",
       "      <th></th>\n",
       "      <th>text</th>\n",
       "      <th>category</th>\n",
       "    </tr>\n",
       "  </thead>\n",
       "  <tbody>\n",
       "    <tr>\n",
       "      <th>0</th>\n",
       "      <td>xxbos @usairways xxup plans xxup changed ! xxup is xxup that xxup what u xxup call xxup not xxup xxunk xxup able 2 xxup park xxup on xxup time xxup planes w a 2 xxup hr xxup layover n b xxup able 2 xxup make xxup ur xxup connection ! # seriously</td>\n",
       "      <td>negative</td>\n",
       "    </tr>\n",
       "    <tr>\n",
       "      <th>1</th>\n",
       "      <td>xxbos @usairways e xxrep 4 y ! xxmaj cancelled xxmaj flightlations , xxmaj flight xxmaj booking xxmaj problemss , reflight xxmaj booking xxmaj problemss , but y' all got me on the same flight out tonight ( not tomorrow ) &amp; &amp; the xxup fc upgrade . xxmaj thx !</td>\n",
       "      <td>positive</td>\n",
       "    </tr>\n",
       "    <tr>\n",
       "      <th>2</th>\n",
       "      <td>xxbos @united xxup fail xxmaj you xxmaj cancelled xxmaj flightled our flight frm xxup xxunk and then used our reserv home to xxup iah ( from xxup sea ) for reflight xxmaj booking xxmaj problems w / out xxup our xxup xxunk ! ! # xxup xxunk</td>\n",
       "      <td>negative</td>\n",
       "    </tr>\n",
       "    <tr>\n",
       "      <th>3</th>\n",
       "      <td>xxbos @united : xxmaj unhappy with xxmaj united 's service ? \\n\\n xxmaj read xxmaj xxunk xxmaj xxunk 's open letter to ual 's xxup ceo . \\n\\n xxmaj leave a comment or xxup rt . \\n\\n http : / / t.co / xxunk</td>\n",
       "      <td>negative</td>\n",
       "    </tr>\n",
       "    <tr>\n",
       "      <th>4</th>\n",
       "      <td>xxbos @southwestair xxmaj thx for the xxup grand view today ! xxup flt xxunk xxup seatac to xxup phx . # xxunk # xxmaj arizona # xxmaj wow # xxmaj love # xxmaj photography http : / / t.co / xxunk</td>\n",
       "      <td>positive</td>\n",
       "    </tr>\n",
       "  </tbody>\n",
       "</table>"
      ],
      "text/plain": [
       "<IPython.core.display.HTML object>"
      ]
     },
     "metadata": {},
     "output_type": "display_data"
    }
   ],
   "source": [
    "tweet_clas.show_batch(max_n=5)"
   ]
  },
  {
   "cell_type": "code",
   "execution_count": 19,
   "id": "close-forward",
   "metadata": {
    "ExecuteTime": {
     "end_time": "2022-04-27T17:23:06.230556Z",
     "start_time": "2022-04-27T17:23:05.863473Z"
    }
   },
   "outputs": [],
   "source": [
    "learn_clas = text_classifier_learner(tweet_clas, AWD_LSTM, drop_mult=0.5, metrics=accuracy).to_fp16()"
   ]
  },
  {
   "cell_type": "code",
   "execution_count": 20,
   "id": "supposed-hometown",
   "metadata": {
    "ExecuteTime": {
     "end_time": "2022-04-27T17:23:06.342582Z",
     "start_time": "2022-04-27T17:23:06.231556Z"
    }
   },
   "outputs": [],
   "source": [
    "#collapse\n",
    "learn_clas = learn_clas.load_encoder(\"finetuned\")"
   ]
  },
  {
   "cell_type": "code",
   "execution_count": 21,
   "id": "figured-museum",
   "metadata": {
    "ExecuteTime": {
     "end_time": "2022-04-27T17:23:27.241265Z",
     "start_time": "2022-04-27T17:23:06.343581Z"
    }
   },
   "outputs": [
    {
     "data": {
      "text/html": [
       "<table border=\"1\" class=\"dataframe\">\n",
       "  <thead>\n",
       "    <tr style=\"text-align: left;\">\n",
       "      <th>epoch</th>\n",
       "      <th>train_loss</th>\n",
       "      <th>valid_loss</th>\n",
       "      <th>accuracy</th>\n",
       "      <th>time</th>\n",
       "    </tr>\n",
       "  </thead>\n",
       "  <tbody>\n",
       "    <tr>\n",
       "      <td>0</td>\n",
       "      <td>0.799796</td>\n",
       "      <td>0.627124</td>\n",
       "      <td>0.739082</td>\n",
       "      <td>00:20</td>\n",
       "    </tr>\n",
       "  </tbody>\n",
       "</table>"
      ],
      "text/plain": [
       "<IPython.core.display.HTML object>"
      ]
     },
     "metadata": {},
     "output_type": "display_data"
    }
   ],
   "source": [
    "learn_clas.fit_one_cycle(1, 2e-2)"
   ]
  },
  {
   "cell_type": "code",
   "execution_count": 22,
   "id": "overall-arthritis",
   "metadata": {
    "ExecuteTime": {
     "end_time": "2022-04-27T17:23:48.818100Z",
     "start_time": "2022-04-27T17:23:27.243266Z"
    }
   },
   "outputs": [
    {
     "data": {
      "text/html": [
       "<table border=\"1\" class=\"dataframe\">\n",
       "  <thead>\n",
       "    <tr style=\"text-align: left;\">\n",
       "      <th>epoch</th>\n",
       "      <th>train_loss</th>\n",
       "      <th>valid_loss</th>\n",
       "      <th>accuracy</th>\n",
       "      <th>time</th>\n",
       "    </tr>\n",
       "  </thead>\n",
       "  <tbody>\n",
       "    <tr>\n",
       "      <td>0</td>\n",
       "      <td>0.725965</td>\n",
       "      <td>0.618923</td>\n",
       "      <td>0.734220</td>\n",
       "      <td>00:21</td>\n",
       "    </tr>\n",
       "  </tbody>\n",
       "</table>"
      ],
      "text/plain": [
       "<IPython.core.display.HTML object>"
      ]
     },
     "metadata": {},
     "output_type": "display_data"
    }
   ],
   "source": [
    "learn_clas.freeze_to(-2)\n",
    "learn_clas.fit_one_cycle(1, slice(1e-2/(2.6**4),1e-2))"
   ]
  },
  {
   "cell_type": "code",
   "execution_count": 23,
   "id": "developing-gazette",
   "metadata": {
    "ExecuteTime": {
     "end_time": "2022-04-27T17:24:09.139657Z",
     "start_time": "2022-04-27T17:23:48.819102Z"
    }
   },
   "outputs": [
    {
     "data": {
      "text/html": [
       "<table border=\"1\" class=\"dataframe\">\n",
       "  <thead>\n",
       "    <tr style=\"text-align: left;\">\n",
       "      <th>epoch</th>\n",
       "      <th>train_loss</th>\n",
       "      <th>valid_loss</th>\n",
       "      <th>accuracy</th>\n",
       "      <th>time</th>\n",
       "    </tr>\n",
       "  </thead>\n",
       "  <tbody>\n",
       "    <tr>\n",
       "      <td>0</td>\n",
       "      <td>0.664376</td>\n",
       "      <td>0.550634</td>\n",
       "      <td>0.781218</td>\n",
       "      <td>00:20</td>\n",
       "    </tr>\n",
       "  </tbody>\n",
       "</table>"
      ],
      "text/plain": [
       "<IPython.core.display.HTML object>"
      ]
     },
     "metadata": {},
     "output_type": "display_data"
    }
   ],
   "source": [
    "learn_clas.freeze_to(-3)\n",
    "learn_clas.fit_one_cycle(1, slice(5e-3/(2.6**4),5e-3))"
   ]
  },
  {
   "cell_type": "code",
   "execution_count": 24,
   "id": "complimentary-malaysia",
   "metadata": {
    "ExecuteTime": {
     "end_time": "2022-04-27T17:24:52.507377Z",
     "start_time": "2022-04-27T17:24:09.141657Z"
    }
   },
   "outputs": [
    {
     "data": {
      "text/html": [
       "<table border=\"1\" class=\"dataframe\">\n",
       "  <thead>\n",
       "    <tr style=\"text-align: left;\">\n",
       "      <th>epoch</th>\n",
       "      <th>train_loss</th>\n",
       "      <th>valid_loss</th>\n",
       "      <th>accuracy</th>\n",
       "      <th>time</th>\n",
       "    </tr>\n",
       "  </thead>\n",
       "  <tbody>\n",
       "    <tr>\n",
       "      <td>0</td>\n",
       "      <td>0.527189</td>\n",
       "      <td>0.525152</td>\n",
       "      <td>0.792136</td>\n",
       "      <td>00:21</td>\n",
       "    </tr>\n",
       "    <tr>\n",
       "      <td>1</td>\n",
       "      <td>0.472593</td>\n",
       "      <td>0.530672</td>\n",
       "      <td>0.791027</td>\n",
       "      <td>00:21</td>\n",
       "    </tr>\n",
       "  </tbody>\n",
       "</table>"
      ],
      "text/plain": [
       "<IPython.core.display.HTML object>"
      ]
     },
     "metadata": {},
     "output_type": "display_data"
    }
   ],
   "source": [
    "learn_clas.unfreeze()\n",
    "learn_clas.fit_one_cycle(2, slice(1e-3/(2.6**4),1e-3))"
   ]
  },
  {
   "cell_type": "code",
   "execution_count": 25,
   "id": "documentary-unknown",
   "metadata": {
    "ExecuteTime": {
     "end_time": "2022-04-27T17:24:52.523380Z",
     "start_time": "2022-04-27T17:24:52.508378Z"
    }
   },
   "outputs": [],
   "source": [
    "#collapse \n",
    "# As mentioned I did try this first\n",
    "# learn_clas.fit_one_cycle(10, 2e-2)"
   ]
  },
  {
   "cell_type": "code",
   "execution_count": 26,
   "id": "loaded-cigarette",
   "metadata": {
    "ExecuteTime": {
     "end_time": "2022-04-27T17:24:52.618402Z",
     "start_time": "2022-04-27T17:24:52.525381Z"
    }
   },
   "outputs": [
    {
     "data": {
      "text/html": [],
      "text/plain": [
       "<IPython.core.display.HTML object>"
      ]
     },
     "metadata": {},
     "output_type": "display_data"
    },
    {
     "data": {
      "text/html": [
       "<table border=\"1\" class=\"dataframe\">\n",
       "  <thead>\n",
       "    <tr style=\"text-align: right;\">\n",
       "      <th></th>\n",
       "      <th>text</th>\n",
       "      <th>category</th>\n",
       "      <th>category_</th>\n",
       "    </tr>\n",
       "  </thead>\n",
       "  <tbody>\n",
       "    <tr>\n",
       "      <th>0</th>\n",
       "      <td>xxbos @united xxmaj hi have a question re future xxmaj flight xxmaj booking xxmaj problems . xxup dub - jac 29 / 9 xxup jac - lax 8 / 10 xxup lax - dub 13 / 10 . xxmaj i 'm * xxunk xxmaj what is checked bag allowance for xxup jac - lax ?</td>\n",
       "      <td>neutral</td>\n",
       "      <td>negative</td>\n",
       "    </tr>\n",
       "    <tr>\n",
       "      <th>1</th>\n",
       "      <td>xxbos @usairways 4 segments , 4 / 4 delayed . xxmaj gnv &gt; xxup ctl . xxup ctl &gt; xxup jan . xxup jan &gt; xxup ctl . xxup ctl &gt; xxup gnv . xxmaj my year off from flying with you guys was the way to go .</td>\n",
       "      <td>negative</td>\n",
       "      <td>negative</td>\n",
       "    </tr>\n",
       "    <tr>\n",
       "      <th>2</th>\n",
       "      <td>xxbos @united xxup xxunk from xxup ric , xxup xxunk from xxup ord , &amp; &amp; xxup xxunk from xxup den xxunk xxup delayed for non - weather issues . xxmaj way to go , you re batting 1 . xxrep 3 0 ! xxmaj but no hotels</td>\n",
       "      <td>negative</td>\n",
       "      <td>negative</td>\n",
       "    </tr>\n",
       "    <tr>\n",
       "      <th>3</th>\n",
       "      <td>xxbos xxmaj can i put sun in my carry on ? xxup rt “ @united : xxunk xxrep 3 e xxmaj right now 0 would be a heat xxunk , so enjoy the warmth ! xxmaj can you bring some home ? xxunk ”</td>\n",
       "      <td>neutral</td>\n",
       "      <td>neutral</td>\n",
       "    </tr>\n",
       "    <tr>\n",
       "      <th>4</th>\n",
       "      <td>xxbos @united ( 2 / 2 ) xxmaj it xxunk that if ca n't confirm cert at time of xxmaj flight xxmaj booking xxmaj problems , i should assume that it may never clear . xxmaj did n't used to be that way</td>\n",
       "      <td>negative</td>\n",
       "      <td>negative</td>\n",
       "    </tr>\n",
       "    <tr>\n",
       "      <th>5</th>\n",
       "      <td>xxbos @americanair xxmaj yes i am . xxunk / xxunk . xxup rno departure at xxunk on 2 / 25 w / connection at xxup dfw to xxup lga . i can do the xxunk to xxup lax and then to xxup jfk</td>\n",
       "      <td>negative</td>\n",
       "      <td>neutral</td>\n",
       "    </tr>\n",
       "    <tr>\n",
       "      <th>6</th>\n",
       "      <td>xxbos @southwestair - xxmaj hi . xxmaj my flight confirmation # is xxunk . xxmaj we are currently stuck in xxmaj norfolk , xxmaj va . xxmaj trying to get to xxup lga in xxup nyc . xxmaj xxunk updates ? xxmaj thx</td>\n",
       "      <td>negative</td>\n",
       "      <td>neutral</td>\n",
       "    </tr>\n",
       "    <tr>\n",
       "      <th>7</th>\n",
       "      <td>xxbos @united booked award tix on xxunk but xxmaj i 'm not seeing a conf # for them , just the xxmaj united xxmaj flight xxmaj booking xxmaj problems # . xxmaj can you get get the xxmaj xxunk # for me ?</td>\n",
       "      <td>neutral</td>\n",
       "      <td>neutral</td>\n",
       "    </tr>\n",
       "    <tr>\n",
       "      <th>8</th>\n",
       "      <td>xxbos @usairways if you get my bag from e xxmaj gate to b xxmaj gate at the xxmaj charlotte airport before my 6 pm flight ( late xxmaj flight cause of y all ) xxmaj i ’ll ride xxup us for life</td>\n",
       "      <td>negative</td>\n",
       "      <td>negative</td>\n",
       "    </tr>\n",
       "  </tbody>\n",
       "</table>"
      ],
      "text/plain": [
       "<IPython.core.display.HTML object>"
      ]
     },
     "metadata": {},
     "output_type": "display_data"
    }
   ],
   "source": [
    "learn_clas.show_results()"
   ]
  },
  {
   "cell_type": "code",
   "execution_count": 27,
   "id": "e673795a",
   "metadata": {
    "ExecuteTime": {
     "end_time": "2022-04-27T17:25:10.862141Z",
     "start_time": "2022-04-27T17:24:52.619402Z"
    }
   },
   "outputs": [
    {
     "data": {
      "text/html": [],
      "text/plain": [
       "<IPython.core.display.HTML object>"
      ]
     },
     "metadata": {},
     "output_type": "display_data"
    },
    {
     "data": {
      "image/png": "[encoded data removed]",
      "text/plain": [
       "<Figure size 432x288 with 1 Axes>"
      ]
     },
     "metadata": {
      "needs_background": "light"
     },
     "output_type": "display_data"
    }
   ],
   "source": [
    "interp = ClassificationInterpretation.from_learner(learn_clas)\n",
    "interp.plot_confusion_matrix()"
   ]
  },
  {
   "cell_type": "code",
   "execution_count": 29,
   "id": "welcome-forth",
   "metadata": {
    "ExecuteTime": {
     "end_time": "2022-04-27T17:25:10.942158Z",
     "start_time": "2022-04-27T17:25:10.895148Z"
    }
   },
   "outputs": [
    {
     "data": {
      "text/html": [],
      "text/plain": [
       "<IPython.core.display.HTML object>"
      ]
     },
     "metadata": {},
     "output_type": "display_data"
    },
    {
     "data": {
      "text/plain": [
       "('positive', TensorText(2), TensorText([0.0047, 0.0024, 0.9929]))"
      ]
     },
     "execution_count": 29,
     "metadata": {},
     "output_type": "execute_result"
    }
   ],
   "source": [
    "#collapse \n",
    "learn_clas.predict(\"I really loved that flight, it was awesome!\")"
   ]
  },
  {
   "cell_type": "code",
   "execution_count": 30,
   "id": "handled-compilation",
   "metadata": {
    "ExecuteTime": {
     "end_time": "2022-04-27T17:25:10.958162Z",
     "start_time": "2022-04-27T17:25:10.944159Z"
    }
   },
   "outputs": [],
   "source": [
    "#collapse \n",
    "#learn_clas.save('10epoch_clas')"
   ]
  }
 ],
 "metadata": {
  "kernelspec": {
   "display_name": "fastai",
   "language": "python",
   "name": "fastai"
  },
  "language_info": {
   "codemirror_mode": {
    "name": "ipython",
    "version": 3
   },
   "file_extension": ".py",
   "mimetype": "text/x-python",
   "name": "python",
   "nbconvert_exporter": "python",
   "pygments_lexer": "ipython3",
   "version": "3.9.7"
  },
  "varInspector": {
   "cols": {
    "lenName": 16,
    "lenType": 16,
    "lenVar": 40
   },
   "kernels_config": {
    "python": {
     "delete_cmd_postfix": "",
     "delete_cmd_prefix": "del ",
     "library": "var_list.py",
     "varRefreshCmd": "print(var_dic_list())"
    },
    "r": {
     "delete_cmd_postfix": ") ",
     "delete_cmd_prefix": "rm(",
     "library": "var_list.r",
     "varRefreshCmd": "cat(var_dic_list()) "
    }
   },
   "types_to_exclude": [
    "module",
    "function",
    "builtin_function_or_method",
    "instance",
    "_Feature"
   ],
   "window_display": false
  }
 },
 "nbformat": 4,
 "nbformat_minor": 5
}
