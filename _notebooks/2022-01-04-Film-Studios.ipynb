{
 "cells": [
  {
   "cell_type": "markdown",
   "id": "5557bb5e",
   "metadata": {},
   "source": [
    "# Film studio dataset\n",
    "\n",
    "By this point I have already gathered some tweets related to names of certain film studios. Now I have to explore what I actually have, and do some sort of filtration of it. For the last part I wanted to try and label the data."
   ]
  },
  {
   "cell_type": "code",
   "execution_count": 1,
   "id": "distributed-filename",
   "metadata": {
    "ExecuteTime": {
     "end_time": "2022-04-27T12:18:54.092385Z",
     "start_time": "2022-04-27T12:18:53.891339Z"
    }
   },
   "outputs": [],
   "source": [
    "#collapse\n",
    "import os\n",
    "import numpy as np\n",
    "import pandas as pd\n",
    "import glob"
   ]
  },
  {
   "cell_type": "code",
   "execution_count": 2,
   "id": "collected-presence",
   "metadata": {
    "ExecuteTime": {
     "end_time": "2022-04-27T12:18:54.344856Z",
     "start_time": "2022-04-27T12:18:54.244438Z"
    }
   },
   "outputs": [],
   "source": [
    "#collapse\n",
    "paths=[\n",
    "    (\"Dreamworks\", r\"..\\datasets\\films\\DreamWorks_5_2000.csv\"),\n",
    "    (\"Disney\", r\"..\\datasets\\films\\disney_5_2000.csv\"),\n",
    "    (\"Marvel\", r\"..\\datasets\\films\\marvel_5_2000.csv\"),\n",
    "    (\"Studio Ghibli\", r\"..\\datasets\\films\\studioGhibli_5_2000.csv\"),\n",
    "    (\"Sony Pictures\", r\"..\\datasets\\films\\SonyPictures_5_2000.csv\"),\n",
    "    (\"Warner Bros\", r\"..\\datasets\\films\\WarnerBros._5_2000.csv\"),\n",
    "    (\"DC\", r\"..\\datasets\\films\\dc_5_2000.csv\"),\n",
    "    (\"Pixar\", r\"..\\datasets\\films\\pixar_5_2000.csv\"),\n",
    "    (\"Lionsgate\", r\"..\\datasets\\films\\Lionsgate_5_2000.csv\")\n",
    "]\n",
    "\n",
    "li = []\n",
    "\n",
    "for studio, path in paths:\n",
    "    df = pd.read_csv(path, index_col=0, header=0)\n",
    "    df[\"studio\"] = studio\n",
    "    li.append(df)\n",
    "\n",
    "df_studios = pd.concat(li, axis=0, ignore_index=True)"
   ]
  },
  {
   "cell_type": "code",
   "execution_count": 3,
   "id": "tutorial-brazil",
   "metadata": {
    "ExecuteTime": {
     "end_time": "2022-04-27T12:18:54.597464Z",
     "start_time": "2022-04-27T12:18:54.566457Z"
    }
   },
   "outputs": [
    {
     "data": {
      "text/html": [
       "<div>\n",
       "<style scoped>\n",
       "    .dataframe tbody tr th:only-of-type {\n",
       "        vertical-align: middle;\n",
       "    }\n",
       "\n",
       "    .dataframe tbody tr th {\n",
       "        vertical-align: top;\n",
       "    }\n",
       "\n",
       "    .dataframe thead th {\n",
       "        text-align: right;\n",
       "    }\n",
       "</style>\n",
       "<table border=\"1\" class=\"dataframe\">\n",
       "  <thead>\n",
       "    <tr style=\"text-align: right;\">\n",
       "      <th></th>\n",
       "      <th>username</th>\n",
       "      <th>name</th>\n",
       "      <th>profile_picture</th>\n",
       "      <th>replies</th>\n",
       "      <th>retweets</th>\n",
       "      <th>likes</th>\n",
       "      <th>is_retweet</th>\n",
       "      <th>posted_time</th>\n",
       "      <th>content</th>\n",
       "      <th>hashtags</th>\n",
       "      <th>mentions</th>\n",
       "      <th>images</th>\n",
       "      <th>videos</th>\n",
       "      <th>tweet_url</th>\n",
       "      <th>link</th>\n",
       "      <th>studio</th>\n",
       "    </tr>\n",
       "  </thead>\n",
       "  <tbody>\n",
       "    <tr>\n",
       "      <th>2282</th>\n",
       "      <td>DisneyHotelBot</td>\n",
       "      <td>ディズニーホテル空室状況！</td>\n",
       "      <td>https://twitter.com/DisneyHotelBot/photo</td>\n",
       "      <td>0</td>\n",
       "      <td>0</td>\n",
       "      <td>0</td>\n",
       "      <td>False</td>\n",
       "      <td>2022-04-24T23:28:07+00:00</td>\n",
       "      <td>東京ディズニーシー・ホテルミラコスタの\\n以下日程が空いています！part2\\n\\n2022...</td>\n",
       "      <td>['チケット', 'Disney', 'ディズニー']</td>\n",
       "      <td>[]</td>\n",
       "      <td>[]</td>\n",
       "      <td>[]</td>\n",
       "      <td>https://twitter.com/DisneyHotelBot/status/1518...</td>\n",
       "      <td>https://t.co/HtmjkaoHYp</td>\n",
       "      <td>Disney</td>\n",
       "    </tr>\n",
       "    <tr>\n",
       "      <th>6135</th>\n",
       "      <td>themanoftomorr7</td>\n",
       "      <td>themanoftomorrow</td>\n",
       "      <td>https://twitter.com/themanoftomorr7/photo</td>\n",
       "      <td>0</td>\n",
       "      <td>1</td>\n",
       "      <td>0</td>\n",
       "      <td>False</td>\n",
       "      <td>2022-04-24T15:11:31+00:00</td>\n",
       "      <td>Dylan O'Brien is nightwing!! #Nightwing \\n@DCC...</td>\n",
       "      <td>['Nightwing']</td>\n",
       "      <td>['DCComics', 'warnerbros', 'wbpictures', 'wbd'...</td>\n",
       "      <td>['https://pbs.twimg.com/media/FRHk2KdXsAAo2Iy?...</td>\n",
       "      <td>[]</td>\n",
       "      <td>https://twitter.com/themanoftomorr7/status/151...</td>\n",
       "      <td>NaN</td>\n",
       "      <td>Warner Bros</td>\n",
       "    </tr>\n",
       "    <tr>\n",
       "      <th>6248</th>\n",
       "      <td>DCtamilFC</td>\n",
       "      <td>𝐃𝐂 𝐓𝐚𝐦𝐢𝐥 𝐅𝐂</td>\n",
       "      <td>https://twitter.com/DCtamilFC/photo</td>\n",
       "      <td>2</td>\n",
       "      <td>21</td>\n",
       "      <td>51</td>\n",
       "      <td>False</td>\n",
       "      <td>2022-04-24T12:26:02+00:00</td>\n",
       "      <td>Warner Bros. Pictures' presentation is on 4pm...</td>\n",
       "      <td>['TheFlash', 'BlackAdam']</td>\n",
       "      <td>['CinemaCon']</td>\n",
       "      <td>['https://pbs.twimg.com/media/FRG_CzxaIAAAdDY?...</td>\n",
       "      <td>[]</td>\n",
       "      <td>https://twitter.com/DCtamilFC/status/151820461...</td>\n",
       "      <td>NaN</td>\n",
       "      <td>Warner Bros</td>\n",
       "    </tr>\n",
       "    <tr>\n",
       "      <th>2271</th>\n",
       "      <td>ma_san100</td>\n",
       "      <td>まぁさん「100の冒険」</td>\n",
       "      <td>https://twitter.com/ma_san100/photo</td>\n",
       "      <td>0</td>\n",
       "      <td>0</td>\n",
       "      <td>0</td>\n",
       "      <td>False</td>\n",
       "      <td>2022-04-24T23:28:16+00:00</td>\n",
       "      <td>ウエストポーチ、一目惚れ\\n\\n#ひとりディズニー のお供にしたい\\n\\n#天国に持って行く...</td>\n",
       "      <td>['ひとりディズニー', '天国に持って行く思い出', 'ショップディズニー', 'ディズニ...</td>\n",
       "      <td>[]</td>\n",
       "      <td>[]</td>\n",
       "      <td>[]</td>\n",
       "      <td>https://twitter.com/ma_san100/status/151837127...</td>\n",
       "      <td>https://t.co/3I7umAwjnv</td>\n",
       "      <td>Disney</td>\n",
       "    </tr>\n",
       "    <tr>\n",
       "      <th>4106</th>\n",
       "      <td>sherwin_lui</td>\n",
       "      <td>Blastpoke</td>\n",
       "      <td>https://twitter.com/sherwin_lui/photo</td>\n",
       "      <td>0</td>\n",
       "      <td>0</td>\n",
       "      <td>0</td>\n",
       "      <td>False</td>\n",
       "      <td>2022-04-24T22:50:54+00:00</td>\n",
       "      <td>Any char walking across the main room&amp; opp is ...</td>\n",
       "      <td>[]</td>\n",
       "      <td>[]</td>\n",
       "      <td>[]</td>\n",
       "      <td>['https://video.twimg.com/tweet_video/FRI-21gX...</td>\n",
       "      <td>https://twitter.com/sherwin_lui/status/1518361...</td>\n",
       "      <td>NaN</td>\n",
       "      <td>Marvel</td>\n",
       "    </tr>\n",
       "  </tbody>\n",
       "</table>\n",
       "</div>"
      ],
      "text/plain": [
       "             username              name  \\\n",
       "2282   DisneyHotelBot     ディズニーホテル空室状況！   \n",
       "6135  themanoftomorr7  themanoftomorrow   \n",
       "6248        DCtamilFC       𝐃𝐂 𝐓𝐚𝐦𝐢𝐥 𝐅𝐂   \n",
       "2271        ma_san100      まぁさん「100の冒険」   \n",
       "4106      sherwin_lui         Blastpoke   \n",
       "\n",
       "                                profile_picture  replies  retweets  likes  \\\n",
       "2282   https://twitter.com/DisneyHotelBot/photo        0         0      0   \n",
       "6135  https://twitter.com/themanoftomorr7/photo        0         1      0   \n",
       "6248        https://twitter.com/DCtamilFC/photo        2        21     51   \n",
       "2271        https://twitter.com/ma_san100/photo        0         0      0   \n",
       "4106      https://twitter.com/sherwin_lui/photo        0         0      0   \n",
       "\n",
       "      is_retweet                posted_time  \\\n",
       "2282       False  2022-04-24T23:28:07+00:00   \n",
       "6135       False  2022-04-24T15:11:31+00:00   \n",
       "6248       False  2022-04-24T12:26:02+00:00   \n",
       "2271       False  2022-04-24T23:28:16+00:00   \n",
       "4106       False  2022-04-24T22:50:54+00:00   \n",
       "\n",
       "                                                content  \\\n",
       "2282  東京ディズニーシー・ホテルミラコスタの\\n以下日程が空いています！part2\\n\\n2022...   \n",
       "6135  Dylan O'Brien is nightwing!! #Nightwing \\n@DCC...   \n",
       "6248   Warner Bros. Pictures' presentation is on 4pm...   \n",
       "2271  ウエストポーチ、一目惚れ\\n\\n#ひとりディズニー のお供にしたい\\n\\n#天国に持って行く...   \n",
       "4106  Any char walking across the main room& opp is ...   \n",
       "\n",
       "                                               hashtags  \\\n",
       "2282                        ['チケット', 'Disney', 'ディズニー']   \n",
       "6135                                      ['Nightwing']   \n",
       "6248                          ['TheFlash', 'BlackAdam']   \n",
       "2271  ['ひとりディズニー', '天国に持って行く思い出', 'ショップディズニー', 'ディズニ...   \n",
       "4106                                                 []   \n",
       "\n",
       "                                               mentions  \\\n",
       "2282                                                 []   \n",
       "6135  ['DCComics', 'warnerbros', 'wbpictures', 'wbd'...   \n",
       "6248                                      ['CinemaCon']   \n",
       "2271                                                 []   \n",
       "4106                                                 []   \n",
       "\n",
       "                                                 images  \\\n",
       "2282                                                 []   \n",
       "6135  ['https://pbs.twimg.com/media/FRHk2KdXsAAo2Iy?...   \n",
       "6248  ['https://pbs.twimg.com/media/FRG_CzxaIAAAdDY?...   \n",
       "2271                                                 []   \n",
       "4106                                                 []   \n",
       "\n",
       "                                                 videos  \\\n",
       "2282                                                 []   \n",
       "6135                                                 []   \n",
       "6248                                                 []   \n",
       "2271                                                 []   \n",
       "4106  ['https://video.twimg.com/tweet_video/FRI-21gX...   \n",
       "\n",
       "                                              tweet_url  \\\n",
       "2282  https://twitter.com/DisneyHotelBot/status/1518...   \n",
       "6135  https://twitter.com/themanoftomorr7/status/151...   \n",
       "6248  https://twitter.com/DCtamilFC/status/151820461...   \n",
       "2271  https://twitter.com/ma_san100/status/151837127...   \n",
       "4106  https://twitter.com/sherwin_lui/status/1518361...   \n",
       "\n",
       "                         link       studio  \n",
       "2282  https://t.co/HtmjkaoHYp       Disney  \n",
       "6135                      NaN  Warner Bros  \n",
       "6248                      NaN  Warner Bros  \n",
       "2271  https://t.co/3I7umAwjnv       Disney  \n",
       "4106                      NaN       Marvel  "
      ]
     },
     "execution_count": 3,
     "metadata": {},
     "output_type": "execute_result"
    }
   ],
   "source": [
    "df_studios.sample(5)"
   ]
  },
  {
   "cell_type": "code",
   "execution_count": 4,
   "id": "certified-apollo",
   "metadata": {
    "ExecuteTime": {
     "end_time": "2022-04-27T12:18:54.820514Z",
     "start_time": "2022-04-27T12:18:54.789507Z"
    }
   },
   "outputs": [
    {
     "name": "stdout",
     "output_type": "stream",
     "text": [
      "<class 'pandas.core.frame.DataFrame'>\n",
      "RangeIndex: 8410 entries, 0 to 8409\n",
      "Data columns (total 16 columns):\n",
      " #   Column           Non-Null Count  Dtype \n",
      "---  ------           --------------  ----- \n",
      " 0   username         8410 non-null   object\n",
      " 1   name             8336 non-null   object\n",
      " 2   profile_picture  8410 non-null   object\n",
      " 3   replies          8410 non-null   int64 \n",
      " 4   retweets         8410 non-null   int64 \n",
      " 5   likes            8410 non-null   int64 \n",
      " 6   is_retweet       8410 non-null   bool  \n",
      " 7   posted_time      8410 non-null   object\n",
      " 8   content          8216 non-null   object\n",
      " 9   hashtags         8410 non-null   object\n",
      " 10  mentions         8410 non-null   object\n",
      " 11  images           8410 non-null   object\n",
      " 12  videos           8410 non-null   object\n",
      " 13  tweet_url        8410 non-null   object\n",
      " 14  link             749 non-null    object\n",
      " 15  studio           8410 non-null   object\n",
      "dtypes: bool(1), int64(3), object(12)\n",
      "memory usage: 993.9+ KB\n"
     ]
    }
   ],
   "source": [
    "df_studios.info()"
   ]
  },
  {
   "cell_type": "markdown",
   "id": "ideal-capitol",
   "metadata": {},
   "source": [
    "Tried to download 2000 tweets related to the keywords Dreamworks, Disney, Marvel, Studio Ghibli, Sony Pictures, Warner Bros, DC, Pixar and Lionsgate, which are all related to some film studio. As seen above the dataset consist of only 8410 data points.\n",
    "\n",
    "The value counts in the cell below show how the data is distributed across the studios. Which shows that some keywords worked well and others did not really work at all.  "
   ]
  },
  {
   "cell_type": "code",
   "execution_count": 5,
   "id": "satisfied-reputation",
   "metadata": {
    "ExecuteTime": {
     "end_time": "2022-04-27T12:18:55.596738Z",
     "start_time": "2022-04-27T12:18:55.582735Z"
    }
   },
   "outputs": [
    {
     "data": {
      "text/plain": [
       "Lionsgate    169\n",
       "Name: studio, dtype: int64"
      ]
     },
     "execution_count": 5,
     "metadata": {},
     "output_type": "execute_result"
    }
   ],
   "source": [
    "df[\"studio\"].value_counts()"
   ]
  },
  {
   "cell_type": "markdown",
   "id": "harmful-helena",
   "metadata": {},
   "source": [
    "I chose to reduce the dataset to only keep the `content` and `studio` columns."
   ]
  },
  {
   "cell_type": "code",
   "execution_count": 6,
   "id": "israeli-sydney",
   "metadata": {
    "ExecuteTime": {
     "end_time": "2022-04-27T12:18:56.419853Z",
     "start_time": "2022-04-27T12:18:56.407850Z"
    }
   },
   "outputs": [],
   "source": [
    "#collapse\n",
    "df = df_studios[[\"content\", \"studio\"]].copy()"
   ]
  },
  {
   "cell_type": "code",
   "execution_count": 7,
   "id": "through-theology",
   "metadata": {
    "ExecuteTime": {
     "end_time": "2022-04-27T12:18:56.799507Z",
     "start_time": "2022-04-27T12:18:56.776503Z"
    }
   },
   "outputs": [
    {
     "name": "stdout",
     "output_type": "stream",
     "text": [
      "<class 'pandas.core.frame.DataFrame'>\n",
      "RangeIndex: 8410 entries, 0 to 8409\n",
      "Data columns (total 2 columns):\n",
      " #   Column   Non-Null Count  Dtype \n",
      "---  ------   --------------  ----- \n",
      " 0   content  8216 non-null   object\n",
      " 1   studio   8410 non-null   object\n",
      "dtypes: object(2)\n",
      "memory usage: 131.5+ KB\n"
     ]
    }
   ],
   "source": [
    "df.info()"
   ]
  },
  {
   "cell_type": "markdown",
   "id": "collectible-cameroon",
   "metadata": {
    "ExecuteTime": {
     "end_time": "2022-04-25T22:05:54.477144Z",
     "start_time": "2022-04-25T22:05:54.462140Z"
    }
   },
   "source": [
    "Dropping possible Nan and duplicates."
   ]
  },
  {
   "cell_type": "code",
   "execution_count": 8,
   "id": "aboriginal-speech",
   "metadata": {
    "ExecuteTime": {
     "end_time": "2022-04-27T12:18:57.131941Z",
     "start_time": "2022-04-27T12:18:57.106432Z"
    }
   },
   "outputs": [
    {
     "name": "stdout",
     "output_type": "stream",
     "text": [
      "<class 'pandas.core.frame.DataFrame'>\n",
      "Int64Index: 8083 entries, 0 to 8409\n",
      "Data columns (total 2 columns):\n",
      " #   Column   Non-Null Count  Dtype \n",
      "---  ------   --------------  ----- \n",
      " 0   content  8074 non-null   object\n",
      " 1   studio   8083 non-null   object\n",
      "dtypes: object(2)\n",
      "memory usage: 189.4+ KB\n"
     ]
    }
   ],
   "source": [
    "df.drop_duplicates(inplace=True)\n",
    "df.apply(lambda x: pd.Series(x.dropna().values))\n",
    "df.info()"
   ]
  },
  {
   "cell_type": "code",
   "execution_count": 9,
   "id": "developing-excuse",
   "metadata": {
    "ExecuteTime": {
     "end_time": "2022-04-27T12:18:57.337406Z",
     "start_time": "2022-04-27T12:18:57.322402Z"
    }
   },
   "outputs": [
    {
     "data": {
      "text/html": [
       "<div>\n",
       "<style scoped>\n",
       "    .dataframe tbody tr th:only-of-type {\n",
       "        vertical-align: middle;\n",
       "    }\n",
       "\n",
       "    .dataframe tbody tr th {\n",
       "        vertical-align: top;\n",
       "    }\n",
       "\n",
       "    .dataframe thead th {\n",
       "        text-align: right;\n",
       "    }\n",
       "</style>\n",
       "<table border=\"1\" class=\"dataframe\">\n",
       "  <thead>\n",
       "    <tr style=\"text-align: right;\">\n",
       "      <th></th>\n",
       "      <th>content</th>\n",
       "      <th>studio</th>\n",
       "    </tr>\n",
       "  </thead>\n",
       "  <tbody>\n",
       "    <tr>\n",
       "      <th>6817</th>\n",
       "      <td>Turning Red - Estranhamente Vermelho no TV Tim...</td>\n",
       "      <td>Pixar</td>\n",
       "    </tr>\n",
       "    <tr>\n",
       "      <th>2189</th>\n",
       "      <td>Disneyland but not Disney World.</td>\n",
       "      <td>Disney</td>\n",
       "    </tr>\n",
       "    <tr>\n",
       "      <th>5681</th>\n",
       "      <td>@SonyPictures\\n @TomHolland1996\\n @Zendaya\\n @...</td>\n",
       "      <td>Sony Pictures</td>\n",
       "    </tr>\n",
       "    <tr>\n",
       "      <th>7781</th>\n",
       "      <td>#pixar</td>\n",
       "      <td>Pixar</td>\n",
       "    </tr>\n",
       "    <tr>\n",
       "      <th>3847</th>\n",
       "      <td>Eu gosto de alguns filmes da Marvel, mas acho ...</td>\n",
       "      <td>Marvel</td>\n",
       "    </tr>\n",
       "    <tr>\n",
       "      <th>1086</th>\n",
       "      <td>dps de heartstopper eu to esperando ansiosamen...</td>\n",
       "      <td>Disney</td>\n",
       "    </tr>\n",
       "    <tr>\n",
       "      <th>6237</th>\n",
       "      <td>The people: Warner Bros, Bring Johnny Depp bac...</td>\n",
       "      <td>Warner Bros</td>\n",
       "    </tr>\n",
       "    <tr>\n",
       "      <th>4080</th>\n",
       "      <td>acabei de ver um tweet dc vs marvel e lembrei ...</td>\n",
       "      <td>Marvel</td>\n",
       "    </tr>\n",
       "    <tr>\n",
       "      <th>5538</th>\n",
       "      <td>i wanna go to the studio ghibli exhibit so bad...</td>\n",
       "      <td>Studio Ghibli</td>\n",
       "    </tr>\n",
       "    <tr>\n",
       "      <th>5536</th>\n",
       "      <td>my beloved friends as iconic studio ghibli sce...</td>\n",
       "      <td>Studio Ghibli</td>\n",
       "    </tr>\n",
       "  </tbody>\n",
       "</table>\n",
       "</div>"
      ],
      "text/plain": [
       "                                                content         studio\n",
       "6817  Turning Red - Estranhamente Vermelho no TV Tim...          Pixar\n",
       "2189                   Disneyland but not Disney World.         Disney\n",
       "5681  @SonyPictures\\n @TomHolland1996\\n @Zendaya\\n @...  Sony Pictures\n",
       "7781                                             #pixar          Pixar\n",
       "3847  Eu gosto de alguns filmes da Marvel, mas acho ...         Marvel\n",
       "1086  dps de heartstopper eu to esperando ansiosamen...         Disney\n",
       "6237  The people: Warner Bros, Bring Johnny Depp bac...    Warner Bros\n",
       "4080  acabei de ver um tweet dc vs marvel e lembrei ...         Marvel\n",
       "5538  i wanna go to the studio ghibli exhibit so bad...  Studio Ghibli\n",
       "5536  my beloved friends as iconic studio ghibli sce...  Studio Ghibli"
      ]
     },
     "execution_count": 9,
     "metadata": {},
     "output_type": "execute_result"
    }
   ],
   "source": [
    "df.sample(10)"
   ]
  },
  {
   "cell_type": "markdown",
   "id": "molecular-kingdom",
   "metadata": {},
   "source": [
    "# Detect language"
   ]
  },
  {
   "cell_type": "markdown",
   "id": "silent-tractor",
   "metadata": {},
   "source": [
    "As I was rather awkwardly reminded when working on the \"France\" dataset, Twitter is a multilingual platform. So for the next part, I will work on detecting which language a tweet is written in. While creating a dataset with multiple languages could be interesting, it is likely to be rather skewed distributed. \n",
    "\n",
    "At first, I tried to use TextBlob to detect the language, but it seemed the library had some issues. So I tried to use the langdetect library which said it supports 55 languages. However, trying to detect the language of the tweets directly led to some errors. Mainly an Exception saying \"No features in text\", which was not something I had stumbled upon in the \"France\" dataset. \n",
    "\n",
    "I tried to do some preprocessing of the text to make the language detection work. First I removed tweets with less than 5 whitespaces. Then I realized that trying to detect the language of anything which does not contain any alphabet did not work, so I tried to remove those."
   ]
  },
  {
   "cell_type": "code",
   "execution_count": 10,
   "id": "devoted-complex",
   "metadata": {
    "ExecuteTime": {
     "end_time": "2022-04-27T12:19:00.132135Z",
     "start_time": "2022-04-27T12:19:00.094443Z"
    }
   },
   "outputs": [
    {
     "name": "stdout",
     "output_type": "stream",
     "text": [
      "<class 'pandas.core.frame.DataFrame'>\n",
      "Int64Index: 7315 entries, 0 to 8408\n",
      "Data columns (total 2 columns):\n",
      " #   Column   Non-Null Count  Dtype \n",
      "---  ------   --------------  ----- \n",
      " 0   content  7315 non-null   object\n",
      " 1   studio   7315 non-null   object\n",
      "dtypes: object(2)\n",
      "memory usage: 171.4+ KB\n"
     ]
    }
   ],
   "source": [
    "df = df[df[\"content\"].str.split().str.len().ge(5)]\n",
    "df.info()"
   ]
  },
  {
   "cell_type": "code",
   "execution_count": 11,
   "id": "serious-comedy",
   "metadata": {
    "ExecuteTime": {
     "end_time": "2022-04-27T12:19:00.673002Z",
     "start_time": "2022-04-27T12:19:00.661000Z"
    }
   },
   "outputs": [],
   "source": [
    "#collapse\n",
    "import re"
   ]
  },
  {
   "cell_type": "code",
   "execution_count": 12,
   "id": "distinct-parameter",
   "metadata": {
    "ExecuteTime": {
     "end_time": "2022-04-27T12:19:01.513211Z",
     "start_time": "2022-04-27T12:19:01.497700Z"
    }
   },
   "outputs": [
    {
     "data": {
      "text/plain": [
       "True     7231\n",
       "False      84\n",
       "Name: contains_alphabets, dtype: int64"
      ]
     },
     "execution_count": 12,
     "metadata": {},
     "output_type": "execute_result"
    }
   ],
   "source": [
    "def contains_alphabets(s):\n",
    "    return bool(re.match(\"^(?=.*[a-zA-Z])\", s))\n",
    "\n",
    "df[\"contains_alphabets\"] = df[\"content\"].apply(lambda x: contains_alphabets(x))\n",
    "df[\"contains_alphabets\"].value_counts()"
   ]
  },
  {
   "cell_type": "code",
   "execution_count": 13,
   "id": "finnish-sharp",
   "metadata": {
    "ExecuteTime": {
     "end_time": "2022-04-27T12:19:02.320189Z",
     "start_time": "2022-04-27T12:19:02.302680Z"
    }
   },
   "outputs": [],
   "source": [
    "#collapse\n",
    "df = df[df.contains_alphabets]"
   ]
  },
  {
   "cell_type": "markdown",
   "id": "gentle-devices",
   "metadata": {},
   "source": [
    "However, I still got the same exception. So I tried some other possible solutions: \n",
    "- remove punctuation\n",
    "- remove emoji\n",
    "- remove html\n",
    "- remove urls"
   ]
  },
  {
   "cell_type": "code",
   "execution_count": 14,
   "id": "together-financing",
   "metadata": {
    "ExecuteTime": {
     "end_time": "2022-04-27T12:19:03.626693Z",
     "start_time": "2022-04-27T12:19:03.623693Z"
    }
   },
   "outputs": [],
   "source": [
    "#collapse\n",
    "import string"
   ]
  },
  {
   "cell_type": "code",
   "execution_count": 16,
   "id": "everyday-rental",
   "metadata": {
    "ExecuteTime": {
     "end_time": "2022-04-27T12:19:15.113673Z",
     "start_time": "2022-04-27T12:19:15.102671Z"
    }
   },
   "outputs": [],
   "source": [
    "#collapse\n",
    "def remove_punctuation(text):\n",
    "    text = text.strip()\n",
    "    words = text.split()\n",
    "    table = str.maketrans(\"\", \"\", string.punctuation)\n",
    "    words = [word.translate(table) for word in words] # removes Punctuation\n",
    "    text = \" \".join(words)\n",
    "    return text\n",
    "\n",
    "def remove_html(text):\n",
    "    html=re.compile(r\"<.*?>\")\n",
    "    return html.sub(r\"\",text)\n",
    "\n",
    "def remove_url(text):\n",
    "    url = re.compile(r\"https?://\\S+|www\\.\\S+\")\n",
    "    return url.sub(r\"\",text)\n",
    "\n",
    "def remove_emoji(string):\n",
    "    emoji_pattern = re.compile(\"[\"\n",
    "                               u\"\\U0001F600-\\U0001F64F\"  # emoticons\n",
    "                               u\"\\U0001F300-\\U0001F5FF\"  # symbols & pictographs\n",
    "                               u\"\\U0001F680-\\U0001F6FF\"  # transport & map symbols\n",
    "                               u\"\\U0001F1E0-\\U0001F1FF\"  # flags (iOS)\n",
    "                               u\"\\U00002500-\\U00002BEF\"  # chinese char\n",
    "                               u\"\\U00002702-\\U000027B0\"\n",
    "                               u\"\\U00002702-\\U000027B0\"\n",
    "                               u\"\\U000024C2-\\U0001F251\"\n",
    "                               u\"\\U0001f926-\\U0001f937\"\n",
    "                               u\"\\U00010000-\\U0010ffff\"\n",
    "                               u\"\\u2640-\\u2642\"\n",
    "                               u\"\\u2600-\\u2B55\"\n",
    "                               u\"\\u200d\"\n",
    "                               u\"\\u23cf\"\n",
    "                               u\"\\u23e9\"\n",
    "                               u\"\\u231a\"\n",
    "                               u\"\\ufe0f\"  # dingbats\n",
    "                               u\"\\u3030\"\n",
    "                               \"]+\", flags=re.UNICODE)\n",
    "    return emoji_pattern.sub(r\"\", string)"
   ]
  },
  {
   "cell_type": "code",
   "execution_count": 17,
   "id": "thermal-defeat",
   "metadata": {
    "ExecuteTime": {
     "end_time": "2022-04-27T12:19:17.008464Z",
     "start_time": "2022-04-27T12:19:16.870434Z"
    }
   },
   "outputs": [],
   "source": [
    "df[\"pre_text\"] = df[\"content\"].apply(lambda x: remove_emoji(x))\n",
    "df[\"pre_text\"] = df[\"pre_text\"].apply(lambda x: remove_url(x))\n",
    "df[\"pre_text\"] = df[\"pre_text\"].apply(lambda x: remove_html(x))\n",
    "df[\"pre_text\"] = df[\"pre_text\"].apply(lambda x: remove_punctuation(x))"
   ]
  },
  {
   "cell_type": "markdown",
   "id": "outdoor-pattern",
   "metadata": {},
   "source": [
    "But even after having tried those methods, the exception prevailed. So I decided to use the unidecode library to force it to be ASCII. While not being ideal, made the exception go away. Which finally gave me some overview over the detected languages. "
   ]
  },
  {
   "cell_type": "code",
   "execution_count": 18,
   "id": "afraid-practice",
   "metadata": {
    "ExecuteTime": {
     "end_time": "2022-04-27T12:19:19.140037Z",
     "start_time": "2022-04-27T12:19:19.127034Z"
    }
   },
   "outputs": [],
   "source": [
    "#collapse\n",
    "import unidecode"
   ]
  },
  {
   "cell_type": "code",
   "execution_count": 19,
   "id": "elect-charter",
   "metadata": {
    "ExecuteTime": {
     "end_time": "2022-04-27T12:19:21.359671Z",
     "start_time": "2022-04-27T12:19:21.343666Z"
    }
   },
   "outputs": [],
   "source": [
    "#collapse\n",
    "def make_unidecode(raw_text):\n",
    "    processed = unidecode.unidecode(raw_text)\n",
    "    return processed"
   ]
  },
  {
   "cell_type": "code",
   "execution_count": 20,
   "id": "certain-malawi",
   "metadata": {
    "ExecuteTime": {
     "end_time": "2022-04-27T12:19:23.585746Z",
     "start_time": "2022-04-27T12:19:23.461116Z"
    }
   },
   "outputs": [],
   "source": [
    "df[\"pre_text\"] = df[\"pre_text\"].apply(lambda x: make_unidecode(x))"
   ]
  },
  {
   "cell_type": "code",
   "execution_count": 21,
   "id": "hairy-energy",
   "metadata": {
    "ExecuteTime": {
     "end_time": "2022-04-27T12:19:25.204885Z",
     "start_time": "2022-04-27T12:19:25.190882Z"
    }
   },
   "outputs": [
    {
     "data": {
      "text/html": [
       "<div>\n",
       "<style scoped>\n",
       "    .dataframe tbody tr th:only-of-type {\n",
       "        vertical-align: middle;\n",
       "    }\n",
       "\n",
       "    .dataframe tbody tr th {\n",
       "        vertical-align: top;\n",
       "    }\n",
       "\n",
       "    .dataframe thead th {\n",
       "        text-align: right;\n",
       "    }\n",
       "</style>\n",
       "<table border=\"1\" class=\"dataframe\">\n",
       "  <thead>\n",
       "    <tr style=\"text-align: right;\">\n",
       "      <th></th>\n",
       "      <th>content</th>\n",
       "      <th>studio</th>\n",
       "      <th>contains_alphabets</th>\n",
       "      <th>pre_text</th>\n",
       "    </tr>\n",
       "  </thead>\n",
       "  <tbody>\n",
       "    <tr>\n",
       "      <th>2850</th>\n",
       "      <td>Lost cat Marvel in Rockford, MI US (49341) #lo...</td>\n",
       "      <td>Marvel</td>\n",
       "      <td>True</td>\n",
       "      <td>Lost cat Marvel in Rockford MI US 49341 lostcat</td>\n",
       "    </tr>\n",
       "    <tr>\n",
       "      <th>1494</th>\n",
       "      <td>can I say yes?  I have high enough confidence ...</td>\n",
       "      <td>Disney</td>\n",
       "      <td>True</td>\n",
       "      <td>can I say yes I have high enough confidence to...</td>\n",
       "    </tr>\n",
       "    <tr>\n",
       "      <th>6920</th>\n",
       "      <td>Check out this listing I just added to my #Pos...</td>\n",
       "      <td>Pixar</td>\n",
       "      <td>True</td>\n",
       "      <td>Check out this listing I just added to my Posh...</td>\n",
       "    </tr>\n",
       "    <tr>\n",
       "      <th>6575</th>\n",
       "      <td>Not just you, either.\\nAnd the Warner Bros. ca...</td>\n",
       "      <td>Warner Bros</td>\n",
       "      <td>True</td>\n",
       "      <td>Not just you either And the Warner Bros cartoo...</td>\n",
       "    </tr>\n",
       "    <tr>\n",
       "      <th>1128</th>\n",
       "      <td>@Disney\\n You forgot Disney supports forced in...</td>\n",
       "      <td>Disney</td>\n",
       "      <td>True</td>\n",
       "      <td>Disney You forgot Disney supports forced indoc...</td>\n",
       "    </tr>\n",
       "    <tr>\n",
       "      <th>1975</th>\n",
       "      <td>...regs, etc. Disney losing it's privs has vir...</td>\n",
       "      <td>Disney</td>\n",
       "      <td>True</td>\n",
       "      <td>regs etc Disney losing its privs has virtually...</td>\n",
       "    </tr>\n",
       "    <tr>\n",
       "      <th>7809</th>\n",
       "      <td>Os incríveis eh o melhor filme da pixar</td>\n",
       "      <td>Pixar</td>\n",
       "      <td>True</td>\n",
       "      <td>Os incriveis eh o melhor filme da pixar</td>\n",
       "    </tr>\n",
       "    <tr>\n",
       "      <th>7805</th>\n",
       "      <td>PIXAR NO TE VOY A PERDONAR CÓMO TRAUMES A MÍ H...</td>\n",
       "      <td>Pixar</td>\n",
       "      <td>True</td>\n",
       "      <td>PIXAR NO TE VOY A PERDONAR COMO TRAUMES A MI H...</td>\n",
       "    </tr>\n",
       "    <tr>\n",
       "      <th>5321</th>\n",
       "      <td>oh to be one of them studio ghibli girlies who...</td>\n",
       "      <td>Studio Ghibli</td>\n",
       "      <td>True</td>\n",
       "      <td>oh to be one of them studio ghibli girlies who...</td>\n",
       "    </tr>\n",
       "    <tr>\n",
       "      <th>1268</th>\n",
       "      <td>Ron DeSantis’s attack on Disney is obviously u...</td>\n",
       "      <td>Disney</td>\n",
       "      <td>True</td>\n",
       "      <td>Ron DeSantis's attack on Disney is obviously u...</td>\n",
       "    </tr>\n",
       "  </tbody>\n",
       "</table>\n",
       "</div>"
      ],
      "text/plain": [
       "                                                content         studio  \\\n",
       "2850  Lost cat Marvel in Rockford, MI US (49341) #lo...         Marvel   \n",
       "1494  can I say yes?  I have high enough confidence ...         Disney   \n",
       "6920  Check out this listing I just added to my #Pos...          Pixar   \n",
       "6575  Not just you, either.\\nAnd the Warner Bros. ca...    Warner Bros   \n",
       "1128  @Disney\\n You forgot Disney supports forced in...         Disney   \n",
       "1975  ...regs, etc. Disney losing it's privs has vir...         Disney   \n",
       "7809            Os incríveis eh o melhor filme da pixar          Pixar   \n",
       "7805  PIXAR NO TE VOY A PERDONAR CÓMO TRAUMES A MÍ H...          Pixar   \n",
       "5321  oh to be one of them studio ghibli girlies who...  Studio Ghibli   \n",
       "1268  Ron DeSantis’s attack on Disney is obviously u...         Disney   \n",
       "\n",
       "      contains_alphabets                                           pre_text  \n",
       "2850                True    Lost cat Marvel in Rockford MI US 49341 lostcat  \n",
       "1494                True  can I say yes I have high enough confidence to...  \n",
       "6920                True  Check out this listing I just added to my Posh...  \n",
       "6575                True  Not just you either And the Warner Bros cartoo...  \n",
       "1128                True  Disney You forgot Disney supports forced indoc...  \n",
       "1975                True  regs etc Disney losing its privs has virtually...  \n",
       "7809                True            Os incriveis eh o melhor filme da pixar  \n",
       "7805                True  PIXAR NO TE VOY A PERDONAR COMO TRAUMES A MI H...  \n",
       "5321                True  oh to be one of them studio ghibli girlies who...  \n",
       "1268                True  Ron DeSantis's attack on Disney is obviously u...  "
      ]
     },
     "execution_count": 21,
     "metadata": {},
     "output_type": "execute_result"
    }
   ],
   "source": [
    "df.sample(10)"
   ]
  },
  {
   "cell_type": "code",
   "execution_count": 22,
   "id": "surgical-jerusalem",
   "metadata": {
    "ExecuteTime": {
     "end_time": "2022-04-27T12:19:28.628023Z",
     "start_time": "2022-04-27T12:19:28.605512Z"
    }
   },
   "outputs": [],
   "source": [
    "#collapse\n",
    "from langdetect import detect"
   ]
  },
  {
   "cell_type": "code",
   "execution_count": 23,
   "id": "concrete-actress",
   "metadata": {
    "ExecuteTime": {
     "end_time": "2022-04-27T12:20:10.337801Z",
     "start_time": "2022-04-27T12:19:30.619887Z"
    }
   },
   "outputs": [],
   "source": [
    "df[\"language\"] = df[\"pre_text\"].apply(detect)"
   ]
  },
  {
   "cell_type": "code",
   "execution_count": 24,
   "id": "pressing-client",
   "metadata": {
    "ExecuteTime": {
     "end_time": "2022-04-27T12:20:10.544694Z",
     "start_time": "2022-04-27T12:20:10.529688Z"
    }
   },
   "outputs": [
    {
     "data": {
      "text/plain": [
       "en    5358\n",
       "pt     670\n",
       "es     571\n",
       "fr     120\n",
       "it     105\n",
       "ca      83\n",
       "id      69\n",
       "de      57\n",
       "af      24\n",
       "et      23\n",
       "so      17\n",
       "nl      17\n",
       "tr      16\n",
       "da      14\n",
       "tl      12\n",
       "no      10\n",
       "cy       9\n",
       "ro       8\n",
       "sl       8\n",
       "pl       8\n",
       "sv       5\n",
       "hr       5\n",
       "sw       5\n",
       "hu       4\n",
       "lt       3\n",
       "cs       3\n",
       "fi       3\n",
       "sk       2\n",
       "lv       1\n",
       "vi       1\n",
       "Name: language, dtype: int64"
      ]
     },
     "execution_count": 24,
     "metadata": {},
     "output_type": "execute_result"
    }
   ],
   "source": [
    "df[\"language\"].value_counts()"
   ]
  },
  {
   "cell_type": "markdown",
   "id": "reliable-certification",
   "metadata": {},
   "source": [
    "Since I was not too happy with that solution I tried to use the googletrans library to detect a language. Which was considerably slower, using 20 minutes on something langdetect did in half a minute. Though, it worked on the unaltered text. As the value count shows, goolgetrans detects more languages. Their estimation of how many tweets were English was quite similar. I decided to only go for the rows where they agreed. "
   ]
  },
  {
   "cell_type": "code",
   "execution_count": 25,
   "id": "insured-universal",
   "metadata": {
    "ExecuteTime": {
     "end_time": "2022-04-27T12:20:10.859504Z",
     "start_time": "2022-04-27T12:20:10.734681Z"
    }
   },
   "outputs": [],
   "source": [
    "#collapse\n",
    "from googletrans import Translator"
   ]
  },
  {
   "cell_type": "code",
   "execution_count": 26,
   "id": "square-bidding",
   "metadata": {
    "ExecuteTime": {
     "end_time": "2022-04-27T12:39:53.607273Z",
     "start_time": "2022-04-27T12:20:11.066163Z"
    }
   },
   "outputs": [],
   "source": [
    "def detected_language(s):\n",
    "    detector = Translator()\n",
    "    return detector.detect(s).lang\n",
    "df[\"language_content\"] = df[\"content\"].apply(lambda x: detected_language(x))"
   ]
  },
  {
   "cell_type": "code",
   "execution_count": 27,
   "id": "public-disability",
   "metadata": {
    "ExecuteTime": {
     "end_time": "2022-04-27T12:39:53.829323Z",
     "start_time": "2022-04-27T12:39:53.815320Z"
    }
   },
   "outputs": [
    {
     "data": {
      "text/plain": [
       "en             5376\n",
       "pt              777\n",
       "es              614\n",
       "fr              125\n",
       "id               61\n",
       "ja               59\n",
       "it               40\n",
       "de               28\n",
       "ca               25\n",
       "th               19\n",
       "tr               17\n",
       "tl               12\n",
       "pl               10\n",
       "ru                7\n",
       "ar                7\n",
       "nl                4\n",
       "ko                4\n",
       "el                4\n",
       "da                3\n",
       "su                3\n",
       "hi                3\n",
       "bn                2\n",
       "fi                2\n",
       "ms                2\n",
       "[es, pt]          2\n",
       "no                1\n",
       "sk                1\n",
       "si                1\n",
       "[ms, id]          1\n",
       "hu                1\n",
       "[id, jw]          1\n",
       "[es, ro]          1\n",
       "[mr, hi]          1\n",
       "ro                1\n",
       "ig                1\n",
       "fa                1\n",
       "[ja, zh-CN]       1\n",
       "bg                1\n",
       "[pt, en]          1\n",
       "[en, el]          1\n",
       "af                1\n",
       "gu                1\n",
       "[hi, mr]          1\n",
       "[en, fr]          1\n",
       "[en, da]          1\n",
       "cs                1\n",
       "rw                1\n",
       "sv                1\n",
       "te                1\n",
       "kn                1\n",
       "Name: language_content, dtype: int64"
      ]
     },
     "execution_count": 27,
     "metadata": {},
     "output_type": "execute_result"
    }
   ],
   "source": [
    "df[\"language_content\"].value_counts()"
   ]
  },
  {
   "cell_type": "code",
   "execution_count": 46,
   "id": "fantastic-merit",
   "metadata": {
    "ExecuteTime": {
     "end_time": "2022-04-27T12:58:30.478420Z",
     "start_time": "2022-04-27T12:58:30.466610Z"
    }
   },
   "outputs": [],
   "source": [
    "#collapse\n",
    "df_en = df.loc[(df[\"language\"].str.startswith(\"en\")) & (df[\"language_content\"].str.startswith(\"en\"))]"
   ]
  },
  {
   "cell_type": "code",
   "execution_count": 48,
   "id": "laughing-writing",
   "metadata": {
    "ExecuteTime": {
     "end_time": "2022-04-27T12:58:46.642912Z",
     "start_time": "2022-04-27T12:58:46.624909Z"
    }
   },
   "outputs": [],
   "source": [
    "#collapse\n",
    "df_en = df_en[[\"content\"]].copy()"
   ]
  },
  {
   "cell_type": "code",
   "execution_count": 49,
   "id": "charming-ratio",
   "metadata": {
    "ExecuteTime": {
     "end_time": "2022-04-27T12:58:48.910042Z",
     "start_time": "2022-04-27T12:58:48.900671Z"
    }
   },
   "outputs": [
    {
     "data": {
      "text/html": [
       "<div>\n",
       "<style scoped>\n",
       "    .dataframe tbody tr th:only-of-type {\n",
       "        vertical-align: middle;\n",
       "    }\n",
       "\n",
       "    .dataframe tbody tr th {\n",
       "        vertical-align: top;\n",
       "    }\n",
       "\n",
       "    .dataframe thead th {\n",
       "        text-align: right;\n",
       "    }\n",
       "</style>\n",
       "<table border=\"1\" class=\"dataframe\">\n",
       "  <thead>\n",
       "    <tr style=\"text-align: right;\">\n",
       "      <th></th>\n",
       "      <th>content</th>\n",
       "    </tr>\n",
       "  </thead>\n",
       "  <tbody>\n",
       "    <tr>\n",
       "      <th>3099</th>\n",
       "      <td>Watching No Way Home for the first time since seeing it in theaters. Still the best Marvel film to date</td>\n",
       "    </tr>\n",
       "    <tr>\n",
       "      <th>8159</th>\n",
       "      <td>2 days until I can watch Turning Red! #Disney #Pixar #TurningRed</td>\n",
       "    </tr>\n",
       "    <tr>\n",
       "      <th>6163</th>\n",
       "      <td>Gonna get a platinum trophy as part of my mid year bucket list\\n\\n#legostarwars #starwars #theforceawakens #howiplaystation #playstation #playstationau #ps4 #bucketlist #starwarstheforceawakens #warnerbros #ttgames #playstation4</td>\n",
       "    </tr>\n",
       "    <tr>\n",
       "      <th>3268</th>\n",
       "      <td>I like marvel movies too, just not as much as others. I think true cinema is something that stays with you, not a black and white Albanian film from the pov of a worm.</td>\n",
       "    </tr>\n",
       "    <tr>\n",
       "      <th>1497</th>\n",
       "      <td>23,95€   Disney Classic Games Collection: The Jungle Book, Aladdin, and The Lion King - NSW https://amzn.to/3EIb11M a través de \\n@amazon</td>\n",
       "    </tr>\n",
       "    <tr>\n",
       "      <th>6686</th>\n",
       "      <td>@alioverse\\n #muchmeow 3D animated NFTs from Artists with previous works done for Disney, Pixar and Dreamworks.</td>\n",
       "    </tr>\n",
       "    <tr>\n",
       "      <th>6459</th>\n",
       "      <td>@warnerbros\\n @hbomax\\n please reconsider the Boondocks revival.</td>\n",
       "    </tr>\n",
       "    <tr>\n",
       "      <th>7605</th>\n",
       "      <td>But you can’t make a good argument that superman’s race is integral to the character. Hence we’re seeing diversity in these traditional roles, ie The Zods are black in the Krypton show and Young Justice, and they’re tossing around the idea of a black Superman.</td>\n",
       "    </tr>\n",
       "    <tr>\n",
       "      <th>2947</th>\n",
       "      <td>JRJR is still one of the VERY best Spidey artists out there (especially since he seems to be over his tiny ankles phase). Bold cinematic compositions with a dash of JRSR and Kirby still peeping out here and there. JR will always be a bright star in the comics cosmos.</td>\n",
       "    </tr>\n",
       "    <tr>\n",
       "      <th>1494</th>\n",
       "      <td>can I say yes?  I have high enough confidence to say that this is a disney princess! you’re not wrong, oppa! and how about you? are you some kind of prince or something?</td>\n",
       "    </tr>\n",
       "  </tbody>\n",
       "</table>\n",
       "</div>"
      ],
      "text/plain": [
       "                                                                                                                                                                                                                                                                          content\n",
       "3099                                                                                                                                                                      Watching No Way Home for the first time since seeing it in theaters. Still the best Marvel film to date\n",
       "8159                                                                                                                                                                                                             2 days until I can watch Turning Red! #Disney #Pixar #TurningRed\n",
       "6163                                         Gonna get a platinum trophy as part of my mid year bucket list\\n\\n#legostarwars #starwars #theforceawakens #howiplaystation #playstation #playstationau #ps4 #bucketlist #starwarstheforceawakens #warnerbros #ttgames #playstation4\n",
       "3268                                                                                                      I like marvel movies too, just not as much as others. I think true cinema is something that stays with you, not a black and white Albanian film from the pov of a worm.\n",
       "1497                                                                                                                                    23,95€   Disney Classic Games Collection: The Jungle Book, Aladdin, and The Lion King - NSW https://amzn.to/3EIb11M a través de \\n@amazon\n",
       "6686                                                                                                                                                              @alioverse\\n #muchmeow 3D animated NFTs from Artists with previous works done for Disney, Pixar and Dreamworks.\n",
       "6459                                                                                                                                                                                                             @warnerbros\\n @hbomax\\n please reconsider the Boondocks revival.\n",
       "7605         But you can’t make a good argument that superman’s race is integral to the character. Hence we’re seeing diversity in these traditional roles, ie The Zods are black in the Krypton show and Young Justice, and they’re tossing around the idea of a black Superman.\n",
       "2947  JRJR is still one of the VERY best Spidey artists out there (especially since he seems to be over his tiny ankles phase). Bold cinematic compositions with a dash of JRSR and Kirby still peeping out here and there. JR will always be a bright star in the comics cosmos.\n",
       "1494                                                                                                   can I say yes?  I have high enough confidence to say that this is a disney princess! you’re not wrong, oppa! and how about you? are you some kind of prince or something? "
      ]
     },
     "execution_count": 49,
     "metadata": {},
     "output_type": "execute_result"
    }
   ],
   "source": [
    "df_en.sample(10)"
   ]
  },
  {
   "cell_type": "code",
   "execution_count": 50,
   "id": "adjusted-belly",
   "metadata": {
    "ExecuteTime": {
     "end_time": "2022-04-27T12:59:12.293718Z",
     "start_time": "2022-04-27T12:59:12.275712Z"
    }
   },
   "outputs": [
    {
     "name": "stdout",
     "output_type": "stream",
     "text": [
      "<class 'pandas.core.frame.DataFrame'>\n",
      "Int64Index: 5245 entries, 0 to 8408\n",
      "Data columns (total 1 columns):\n",
      " #   Column   Non-Null Count  Dtype \n",
      "---  ------   --------------  ----- \n",
      " 0   content  5245 non-null   object\n",
      "dtypes: object(1)\n",
      "memory usage: 82.0+ KB\n"
     ]
    }
   ],
   "source": [
    "df_en.info()"
   ]
  },
  {
   "cell_type": "code",
   "execution_count": 51,
   "id": "exotic-blame",
   "metadata": {
    "ExecuteTime": {
     "end_time": "2022-04-27T12:59:12.309735Z",
     "start_time": "2022-04-27T12:59:12.294730Z"
    }
   },
   "outputs": [
    {
     "data": {
      "text/html": [
       "<div>\n",
       "<style scoped>\n",
       "    .dataframe tbody tr th:only-of-type {\n",
       "        vertical-align: middle;\n",
       "    }\n",
       "\n",
       "    .dataframe tbody tr th {\n",
       "        vertical-align: top;\n",
       "    }\n",
       "\n",
       "    .dataframe thead th {\n",
       "        text-align: right;\n",
       "    }\n",
       "</style>\n",
       "<table border=\"1\" class=\"dataframe\">\n",
       "  <thead>\n",
       "    <tr style=\"text-align: right;\">\n",
       "      <th></th>\n",
       "      <th>content</th>\n",
       "    </tr>\n",
       "  </thead>\n",
       "  <tbody>\n",
       "    <tr>\n",
       "      <th>count</th>\n",
       "      <td>5245</td>\n",
       "    </tr>\n",
       "    <tr>\n",
       "      <th>unique</th>\n",
       "      <td>5170</td>\n",
       "    </tr>\n",
       "    <tr>\n",
       "      <th>top</th>\n",
       "      <td>no words. Make it happen. #start #change #now #justiceforjohnnydepp #johnnydepp #istandwithjohnnydepp #justicereform \\n@disney\\n @warnerbrosentertainment \\n@sonypictures\\n @paramountpics\\n @universalpictures @columbiapictures \\n@lionsgate\\n @dreamworks\\n @theacademy\\n @sagaftra</td>\n",
       "    </tr>\n",
       "    <tr>\n",
       "      <th>freq</th>\n",
       "      <td>3</td>\n",
       "    </tr>\n",
       "  </tbody>\n",
       "</table>\n",
       "</div>"
      ],
      "text/plain": [
       "                                                                                                                                                                                                                                                                                       content\n",
       "count                                                                                                                                                                                                                                                                                     5245\n",
       "unique                                                                                                                                                                                                                                                                                    5170\n",
       "top     no words. Make it happen. #start #change #now #justiceforjohnnydepp #johnnydepp #istandwithjohnnydepp #justicereform \\n@disney\\n @warnerbrosentertainment \\n@sonypictures\\n @paramountpics\\n @universalpictures @columbiapictures \\n@lionsgate\\n @dreamworks\\n @theacademy\\n @sagaftra\n",
       "freq                                                                                                                                                                                                                                                                                         3"
      ]
     },
     "execution_count": 51,
     "metadata": {},
     "output_type": "execute_result"
    }
   ],
   "source": [
    "df_en.describe()"
   ]
  },
  {
   "cell_type": "markdown",
   "id": "worldwide-rebound",
   "metadata": {},
   "source": [
    "# Label data"
   ]
  },
  {
   "cell_type": "markdown",
   "id": "recent-customer",
   "metadata": {},
   "source": [
    "Since the gathered data was unlabeled I wanted to try and explore possible ways of labeling it. Most of my time was used exploring the Snorkel library. Their idea is to create several labeling functions where domain information is injected, and then automatically estimate each function's accuracy and correlation. Then their estimate is combined to determine output labels. However, this relies on having some domain knowledge and an idea of what might indicate each label. Which I do not have, nor wanted to use the time to determine. What I found was that most of their examples with labeling polarity and sentiment relied on a library named TextBlob (the same I tried to use to detect languages). So I decided to explore using that library as a possibility.\n",
    "\n",
    "> The sentiment property returns a namedtuple of the form Sentiment(polarity, subjectivity). The polarity score is a float within the range [-1.0, 1.0]. The subjectivity is a float within the range [0.0, 1.0] where 0.0 is very objective and 1.0 is very subjective.\n",
    "\n",
    "So after having extracted the sentiment from the tweet, thresholds are needed to sort them accordingly. "
   ]
  },
  {
   "cell_type": "code",
   "execution_count": 52,
   "id": "square-vermont",
   "metadata": {
    "ExecuteTime": {
     "end_time": "2022-04-27T12:59:12.325739Z",
     "start_time": "2022-04-27T12:59:12.310735Z"
    }
   },
   "outputs": [],
   "source": [
    "#collapse\n",
    "from textblob import TextBlob\n",
    "from textblob.sentiments import NaiveBayesAnalyzer"
   ]
  },
  {
   "cell_type": "code",
   "execution_count": 53,
   "id": "defined-freight",
   "metadata": {
    "ExecuteTime": {
     "end_time": "2022-04-27T12:59:12.341743Z",
     "start_time": "2022-04-27T12:59:12.327740Z"
    }
   },
   "outputs": [],
   "source": [
    "#collapse\n",
    "df_en[\"score\"] = .0 "
   ]
  },
  {
   "cell_type": "code",
   "execution_count": 54,
   "id": "random-tourism",
   "metadata": {
    "ExecuteTime": {
     "end_time": "2022-04-27T12:59:13.547015Z",
     "start_time": "2022-04-27T12:59:12.342743Z"
    }
   },
   "outputs": [],
   "source": [
    "# Iter throuth the content column and updates the score based on what sentiment score TextBlob gives \n",
    "for i, x in df_en.content.iteritems():\n",
    "    score = TextBlob(x)\n",
    "    df_en.at[i, \"score\"] = score.sentiment.polarity"
   ]
  },
  {
   "cell_type": "code",
   "execution_count": 55,
   "id": "atlantic-pleasure",
   "metadata": {
    "ExecuteTime": {
     "end_time": "2022-04-27T12:59:13.563019Z",
     "start_time": "2022-04-27T12:59:13.548017Z"
    }
   },
   "outputs": [
    {
     "data": {
      "text/html": [
       "<div>\n",
       "<style scoped>\n",
       "    .dataframe tbody tr th:only-of-type {\n",
       "        vertical-align: middle;\n",
       "    }\n",
       "\n",
       "    .dataframe tbody tr th {\n",
       "        vertical-align: top;\n",
       "    }\n",
       "\n",
       "    .dataframe thead th {\n",
       "        text-align: right;\n",
       "    }\n",
       "</style>\n",
       "<table border=\"1\" class=\"dataframe\">\n",
       "  <thead>\n",
       "    <tr style=\"text-align: right;\">\n",
       "      <th></th>\n",
       "      <th>content</th>\n",
       "      <th>score</th>\n",
       "    </tr>\n",
       "  </thead>\n",
       "  <tbody>\n",
       "    <tr>\n",
       "      <th>0</th>\n",
       "      <td>Oh man, look at Dreamworks, releasing movies with really cool animation styles! This looks amazing! And Trolls 2 had great animation before it too!</td>\n",
       "      <td>0.729167</td>\n",
       "    </tr>\n",
       "    <tr>\n",
       "      <th>3</th>\n",
       "      <td>Don’t go past this 1/1 \\n@alioverse\\n #muchmeow 3D animated NFTs from Artists with previous works done for Disney, Pixar and Dreamworks.</td>\n",
       "      <td>-0.208333</td>\n",
       "    </tr>\n",
       "    <tr>\n",
       "      <th>5</th>\n",
       "      <td>Why does he do the dreamworks face in every photo</td>\n",
       "      <td>0.000000</td>\n",
       "    </tr>\n",
       "    <tr>\n",
       "      <th>6</th>\n",
       "      <td>i can't believe jerma is the purple man from hit dreamworks movie home</td>\n",
       "      <td>0.000000</td>\n",
       "    </tr>\n",
       "    <tr>\n",
       "      <th>7</th>\n",
       "      <td>@alioverse\\n #muchmeow 3D animated NFTs from Artists with previous works done for Disney, Pixar and Dreamworks.</td>\n",
       "      <td>-0.166667</td>\n",
       "    </tr>\n",
       "  </tbody>\n",
       "</table>\n",
       "</div>"
      ],
      "text/plain": [
       "                                                                                                                                               content  \\\n",
       "0  Oh man, look at Dreamworks, releasing movies with really cool animation styles! This looks amazing! And Trolls 2 had great animation before it too!   \n",
       "3             Don’t go past this 1/1 \\n@alioverse\\n #muchmeow 3D animated NFTs from Artists with previous works done for Disney, Pixar and Dreamworks.   \n",
       "5                                                                                                    Why does he do the dreamworks face in every photo   \n",
       "6                                                                               i can't believe jerma is the purple man from hit dreamworks movie home   \n",
       "7                                      @alioverse\\n #muchmeow 3D animated NFTs from Artists with previous works done for Disney, Pixar and Dreamworks.   \n",
       "\n",
       "      score  \n",
       "0  0.729167  \n",
       "3 -0.208333  \n",
       "5  0.000000  \n",
       "6  0.000000  \n",
       "7 -0.166667  "
      ]
     },
     "execution_count": 55,
     "metadata": {},
     "output_type": "execute_result"
    }
   ],
   "source": [
    "df_en.head()"
   ]
  },
  {
   "cell_type": "code",
   "execution_count": 56,
   "id": "static-catering",
   "metadata": {
    "ExecuteTime": {
     "end_time": "2022-04-27T12:59:13.579023Z",
     "start_time": "2022-04-27T12:59:13.564019Z"
    }
   },
   "outputs": [
    {
     "name": "stdout",
     "output_type": "stream",
     "text": [
      "<class 'pandas.core.frame.DataFrame'>\n",
      "Int64Index: 5245 entries, 0 to 8408\n",
      "Data columns (total 2 columns):\n",
      " #   Column   Non-Null Count  Dtype  \n",
      "---  ------   --------------  -----  \n",
      " 0   content  5245 non-null   object \n",
      " 1   score    5245 non-null   float64\n",
      "dtypes: float64(1), object(1)\n",
      "memory usage: 252.0+ KB\n"
     ]
    }
   ],
   "source": [
    "df_en.info()"
   ]
  },
  {
   "cell_type": "code",
   "execution_count": 57,
   "id": "neural-standard",
   "metadata": {
    "ExecuteTime": {
     "end_time": "2022-04-27T12:59:13.595027Z",
     "start_time": "2022-04-27T12:59:13.581024Z"
    }
   },
   "outputs": [],
   "source": [
    "def polarity_to_label(x):\n",
    "    if(x >= -1 and x < 0):\n",
    "        return \"negative\"\n",
    "    if(x == 0): \n",
    "        return \"neutral\"\n",
    "    if(x > 0 and x <= 1):\n",
    "        return \"positive\"\n",
    "\n",
    "df_en[\"label\"] = df_en[\"score\"].apply(lambda x: polarity_to_label(x))"
   ]
  },
  {
   "cell_type": "code",
   "execution_count": 58,
   "id": "occupational-whale",
   "metadata": {
    "ExecuteTime": {
     "end_time": "2022-04-27T12:59:13.611030Z",
     "start_time": "2022-04-27T12:59:13.596027Z"
    }
   },
   "outputs": [
    {
     "data": {
      "text/plain": [
       "positive    2580\n",
       "neutral     1699\n",
       "negative     966\n",
       "Name: label, dtype: int64"
      ]
     },
     "execution_count": 58,
     "metadata": {},
     "output_type": "execute_result"
    }
   ],
   "source": [
    "df_en[\"label\"].value_counts()"
   ]
  },
  {
   "cell_type": "code",
   "execution_count": 59,
   "id": "regulation-peninsula",
   "metadata": {
    "ExecuteTime": {
     "end_time": "2022-04-27T12:59:13.627034Z",
     "start_time": "2022-04-27T12:59:13.613031Z"
    }
   },
   "outputs": [],
   "source": [
    "df_en = df_en[[\"content\", \"label\"]].copy()"
   ]
  },
  {
   "cell_type": "code",
   "execution_count": 60,
   "id": "naughty-slope",
   "metadata": {
    "ExecuteTime": {
     "end_time": "2022-04-27T12:59:13.643038Z",
     "start_time": "2022-04-27T12:59:13.628034Z"
    }
   },
   "outputs": [],
   "source": [
    "#collapse\n",
    "pd.set_option(\"display.max_colwidth\", None) "
   ]
  },
  {
   "cell_type": "code",
   "execution_count": 61,
   "id": "linear-transformation",
   "metadata": {
    "ExecuteTime": {
     "end_time": "2022-04-27T12:59:13.659042Z",
     "start_time": "2022-04-27T12:59:13.644038Z"
    }
   },
   "outputs": [
    {
     "data": {
      "text/html": [
       "<div>\n",
       "<style scoped>\n",
       "    .dataframe tbody tr th:only-of-type {\n",
       "        vertical-align: middle;\n",
       "    }\n",
       "\n",
       "    .dataframe tbody tr th {\n",
       "        vertical-align: top;\n",
       "    }\n",
       "\n",
       "    .dataframe thead th {\n",
       "        text-align: right;\n",
       "    }\n",
       "</style>\n",
       "<table border=\"1\" class=\"dataframe\">\n",
       "  <thead>\n",
       "    <tr style=\"text-align: right;\">\n",
       "      <th></th>\n",
       "      <th>content</th>\n",
       "      <th>label</th>\n",
       "    </tr>\n",
       "  </thead>\n",
       "  <tbody>\n",
       "    <tr>\n",
       "      <th>2402</th>\n",
       "      <td>Disney employs 80,000 Floridians, they most certainly can make a stand to protect their civil rights\\n\\nAlso makes good business sense - they benefit from a happy pool of potential employees</td>\n",
       "      <td>positive</td>\n",
       "    </tr>\n",
       "    <tr>\n",
       "      <th>6741</th>\n",
       "      <td>ok I caught up on another Pixar and yeah that's quite a concept for the mogul's house the family use in The Incredibles 2. not clear what really holds anything up though. also looks like a nightmare for heating in winter, and A/C in summer</td>\n",
       "      <td>positive</td>\n",
       "    </tr>\n",
       "    <tr>\n",
       "      <th>4675</th>\n",
       "      <td>Maybe not in the cinemas but MARVEL HEROES are definitely in the house</td>\n",
       "      <td>neutral</td>\n",
       "    </tr>\n",
       "    <tr>\n",
       "      <th>4808</th>\n",
       "      <td>I took a walk in Koganei, where Studio Ghibli is located. It is an area with many attractions such as a nursery school for the staff's children and Hayao Miyazaki's atelier.\\n#studioghibli #hayaomiyazaki #totoro\\n\\nhttps://mtlnk.net/j_s%253A%252F%252Fwww.bura-bura-tv.com%252F139…</td>\n",
       "      <td>positive</td>\n",
       "    </tr>\n",
       "    <tr>\n",
       "      <th>6055</th>\n",
       "      <td>And Warner bros large mint projects. They bring new customers to the marky</td>\n",
       "      <td>positive</td>\n",
       "    </tr>\n",
       "    <tr>\n",
       "      <th>8011</th>\n",
       "      <td>Also Pixar back in 1988 wasn’t as big as it is now.</td>\n",
       "      <td>neutral</td>\n",
       "    </tr>\n",
       "    <tr>\n",
       "      <th>7149</th>\n",
       "      <td>How sick would it be if Disney/Pixar did a 4*Town virtual concert residency at Walt Disney World in Florida?</td>\n",
       "      <td>negative</td>\n",
       "    </tr>\n",
       "    <tr>\n",
       "      <th>7584</th>\n",
       "      <td>by your logic we are canon to the mcu, and so is dc , and pixar, and dreamworks, and illumination...</td>\n",
       "      <td>neutral</td>\n",
       "    </tr>\n",
       "    <tr>\n",
       "      <th>3711</th>\n",
       "      <td>Lmao. Making exactly what everyone is asking for is all the time is lame af. That's why the entertainment industry utterly lacks creativity right now. To many focus groups, to much pandering to the market.\\n\\nMarvel movie after marvel movie, marvel games gonna end up much the same.</td>\n",
       "      <td>positive</td>\n",
       "    </tr>\n",
       "    <tr>\n",
       "      <th>7097</th>\n",
       "      <td>To infinity and beyond! \\nBlast off with our newest legos for “Lightyear”!\\n\\n\\n\\n#buzzlightyear #lightyear #disney #pixar #toystory #space #barnesandnoble #142bn</td>\n",
       "      <td>neutral</td>\n",
       "    </tr>\n",
       "  </tbody>\n",
       "</table>\n",
       "</div>"
      ],
      "text/plain": [
       "                                                                                                                                                                                                                                                                                         content  \\\n",
       "2402                                                                                              Disney employs 80,000 Floridians, they most certainly can make a stand to protect their civil rights\\n\\nAlso makes good business sense - they benefit from a happy pool of potential employees   \n",
       "6741                                             ok I caught up on another Pixar and yeah that's quite a concept for the mogul's house the family use in The Incredibles 2. not clear what really holds anything up though. also looks like a nightmare for heating in winter, and A/C in summer   \n",
       "4675                                                                                                                                                                                                                      Maybe not in the cinemas but MARVEL HEROES are definitely in the house   \n",
       "4808    I took a walk in Koganei, where Studio Ghibli is located. It is an area with many attractions such as a nursery school for the staff's children and Hayao Miyazaki's atelier.\\n#studioghibli #hayaomiyazaki #totoro\\n\\nhttps://mtlnk.net/j_s%253A%252F%252Fwww.bura-bura-tv.com%252F139…   \n",
       "6055                                                                                                                                                                                                                  And Warner bros large mint projects. They bring new customers to the marky   \n",
       "8011                                                                                                                                                                                                                                         Also Pixar back in 1988 wasn’t as big as it is now.   \n",
       "7149                                                                                                                                                                                How sick would it be if Disney/Pixar did a 4*Town virtual concert residency at Walt Disney World in Florida?   \n",
       "7584                                                                                                                                                                                        by your logic we are canon to the mcu, and so is dc , and pixar, and dreamworks, and illumination...   \n",
       "3711  Lmao. Making exactly what everyone is asking for is all the time is lame af. That's why the entertainment industry utterly lacks creativity right now. To many focus groups, to much pandering to the market.\\n\\nMarvel movie after marvel movie, marvel games gonna end up much the same.   \n",
       "7097                                                                                                                          To infinity and beyond! \\nBlast off with our newest legos for “Lightyear”!\\n\\n\\n\\n#buzzlightyear #lightyear #disney #pixar #toystory #space #barnesandnoble #142bn   \n",
       "\n",
       "         label  \n",
       "2402  positive  \n",
       "6741  positive  \n",
       "4675   neutral  \n",
       "4808  positive  \n",
       "6055  positive  \n",
       "8011   neutral  \n",
       "7149  negative  \n",
       "7584   neutral  \n",
       "3711  positive  \n",
       "7097   neutral  "
      ]
     },
     "execution_count": 61,
     "metadata": {},
     "output_type": "execute_result"
    }
   ],
   "source": [
    "df_en.sample(10)"
   ]
  },
  {
   "cell_type": "code",
   "execution_count": 62,
   "id": "tender-premiere",
   "metadata": {
    "ExecuteTime": {
     "end_time": "2022-04-27T12:59:13.691049Z",
     "start_time": "2022-04-27T12:59:13.660041Z"
    }
   },
   "outputs": [],
   "source": [
    "#collapse\n",
    "df_en.to_csv(r\"../datasets/studio_data.csv\")"
   ]
  }
 ],
 "metadata": {
  "kernelspec": {
   "display_name": "scrap",
   "language": "python",
   "name": "scrap"
  },
  "language_info": {
   "codemirror_mode": {
    "name": "ipython",
    "version": 3
   },
   "file_extension": ".py",
   "mimetype": "text/x-python",
   "name": "python",
   "nbconvert_exporter": "python",
   "pygments_lexer": "ipython3",
   "version": "3.9.12"
  },
  "varInspector": {
   "cols": {
    "lenName": 16,
    "lenType": 16,
    "lenVar": 40
   },
   "kernels_config": {
    "python": {
     "delete_cmd_postfix": "",
     "delete_cmd_prefix": "del ",
     "library": "var_list.py",
     "varRefreshCmd": "print(var_dic_list())"
    },
    "r": {
     "delete_cmd_postfix": ") ",
     "delete_cmd_prefix": "rm(",
     "library": "var_list.r",
     "varRefreshCmd": "cat(var_dic_list()) "
    }
   },
   "types_to_exclude": [
    "module",
    "function",
    "builtin_function_or_method",
    "instance",
    "_Feature"
   ],
   "window_display": false
  }
 },
 "nbformat": 4,
 "nbformat_minor": 5
}
